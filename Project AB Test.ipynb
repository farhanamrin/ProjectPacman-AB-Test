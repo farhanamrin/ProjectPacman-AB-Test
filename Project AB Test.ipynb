{
 "cells": [
  {
   "cell_type": "markdown",
   "id": "c7a29091-0f22-43aa-a924-6e01e6f03e8c",
   "metadata": {},
   "source": [
    "# A/B Project : Changing the download link to A Button"
   ]
  },
  {
   "cell_type": "markdown",
   "id": "3a638792-809b-4de5-8c90-4a7363658f05",
   "metadata": {},
   "source": [
    "## Experiment Goal\n",
    "This project is done with the purpose to prove that changing the download button to a new button design will encourage our customer<br>\n",
    "to click more to our download link\n",
    "\n",
    "<img src=\"button.png\" alt=\"Button Image\" width=\"400\" height=\"300\">"
   ]
  },
  {
   "cell_type": "markdown",
   "id": "2d5af880-ca54-4f33-a4f7-97f1c286d0af",
   "metadata": {},
   "source": [
    "## Metrics\n",
    "### Driver Metrics\n",
    "For this project we chose **CTR** for our metrics, to be specific we want to see how many users click the download button to<br>\n",
    "our download link\n",
    "\n",
    "### Guardrail Metrics\n",
    "For our guardrai metrics we would observe the change on our network services, e.g change in our server, significant increased<br>\n",
    "in app/web latency, loading page, etc. that would potentially disrupt UX and make the trade-off not worth it."
   ]
  },
  {
   "cell_type": "markdown",
   "id": "b3e04ce3-a75a-45ec-a741-2e1bbc444edc",
   "metadata": {},
   "source": [
    "## Variants\n",
    "Control = The old button that is currently being used <br>\n",
    "Treatment = A button that would direct our user to download our app <br>"
   ]
  },
  {
   "cell_type": "markdown",
   "id": "bebdefd2-be34-4d97-9da2-3e370424a753",
   "metadata": {},
   "source": [
    "## Hypotesis\n",
    "We set this following to be our hypotesis\n",
    "\n",
    "> $H_0: {CTR, Control} >= {CTR, Treatment}$ <br>\n",
    "> $H_1: {CTR,  Control} < {CTR, Treatment}$ <BR>\n",
    "\n",
    "Null hypotesis determines that there would be no difference in CTR between Control and Treatment <br>\n",
    "H1 determines that Treatment would have higher CTR than control "
   ]
  },
  {
   "cell_type": "markdown",
   "id": "fd56cf38-2ee2-41c8-8913-8ee0a58db6a8",
   "metadata": {},
   "source": [
    "## Experiment Design\n",
    "1. Randomization Unit = User's IP Adress\n",
    "2. Target Randomization Unit = Our website visitor, regardless the visitor logged in or not.\n",
    "3. Sample Size\n",
    "  * Confidence Level ($\\alpha$) 5%,\n",
    "  * Power ($1-\\beta$) 80%\n",
    "  * Difference Control & Treatment ($\\delta$) 1%\n",
    "  * Standar Deviasi populasi ($\\sigma$) 0.125 <br>\n",
    "\n",
    "We assign those numbers because we believe the number is appropriate to set for performing A/B test, due to <br>\n",
    "the size of sample that would be needed, we decided to do the project for **2 Weeks**"
   ]
  },
  {
   "cell_type": "code",
   "execution_count": 1,
   "id": "8a7fff8a-0680-47a6-aa55-7d21b7a87828",
   "metadata": {
    "tags": []
   },
   "outputs": [
    {
     "name": "stdout",
     "output_type": "stream",
     "text": [
      "Sample needed per grup: 2500\n",
      "Sample nededed total : 5000\n"
     ]
    }
   ],
   "source": [
    "# Sample Size\n",
    "delta = 0.01\n",
    "std_dev = 0.125\n",
    "sample_size = (16*std_dev**2)/(delta)**2\n",
    "print(f'Sample needed per grup: {round(sample_size)}')\n",
    "print(f'Sample nededed total : {round(2*sample_size)}')"
   ]
  },
  {
   "cell_type": "markdown",
   "id": "283378b6-0f68-4831-93f9-ab066bcecf63",
   "metadata": {},
   "source": [
    "## Data Processing"
   ]
  },
  {
   "cell_type": "markdown",
   "id": "2d18dcf0-f4c0-432c-83f6-9c7e0f05a70b",
   "metadata": {},
   "source": [
    "### Importing and cleaning data"
   ]
  },
  {
   "cell_type": "code",
   "execution_count": 2,
   "id": "5d31c478-84dd-4610-9b91-c4fc87d201f8",
   "metadata": {
    "tags": []
   },
   "outputs": [],
   "source": [
    "import pandas as pd\n",
    "import numpy as np"
   ]
  },
  {
   "cell_type": "code",
   "execution_count": 3,
   "id": "d13441db-faab-4ab0-928a-5356040aa75f",
   "metadata": {},
   "outputs": [
    {
     "data": {
      "text/html": [
       "<div>\n",
       "<style scoped>\n",
       "    .dataframe tbody tr th:only-of-type {\n",
       "        vertical-align: middle;\n",
       "    }\n",
       "\n",
       "    .dataframe tbody tr th {\n",
       "        vertical-align: top;\n",
       "    }\n",
       "\n",
       "    .dataframe thead th {\n",
       "        text-align: right;\n",
       "    }\n",
       "</style>\n",
       "<table border=\"1\" class=\"dataframe\">\n",
       "  <thead>\n",
       "    <tr style=\"text-align: right;\">\n",
       "      <th></th>\n",
       "      <th>RecordID</th>\n",
       "      <th>IP Address</th>\n",
       "      <th>LoggedInFlag</th>\n",
       "      <th>ServerID</th>\n",
       "      <th>VisitPageFlag</th>\n",
       "    </tr>\n",
       "  </thead>\n",
       "  <tbody>\n",
       "    <tr>\n",
       "      <th>0</th>\n",
       "      <td>1</td>\n",
       "      <td>39.13.114.2</td>\n",
       "      <td>1</td>\n",
       "      <td>2</td>\n",
       "      <td>0</td>\n",
       "    </tr>\n",
       "    <tr>\n",
       "      <th>1</th>\n",
       "      <td>2</td>\n",
       "      <td>13.3.25.8</td>\n",
       "      <td>1</td>\n",
       "      <td>1</td>\n",
       "      <td>0</td>\n",
       "    </tr>\n",
       "    <tr>\n",
       "      <th>2</th>\n",
       "      <td>3</td>\n",
       "      <td>247.8.211.8</td>\n",
       "      <td>1</td>\n",
       "      <td>1</td>\n",
       "      <td>0</td>\n",
       "    </tr>\n",
       "    <tr>\n",
       "      <th>3</th>\n",
       "      <td>4</td>\n",
       "      <td>124.8.220.3</td>\n",
       "      <td>0</td>\n",
       "      <td>3</td>\n",
       "      <td>0</td>\n",
       "    </tr>\n",
       "    <tr>\n",
       "      <th>4</th>\n",
       "      <td>5</td>\n",
       "      <td>60.10.192.7</td>\n",
       "      <td>0</td>\n",
       "      <td>2</td>\n",
       "      <td>0</td>\n",
       "    </tr>\n",
       "  </tbody>\n",
       "</table>\n",
       "</div>"
      ],
      "text/plain": [
       "   RecordID   IP Address  LoggedInFlag  ServerID  VisitPageFlag\n",
       "0         1  39.13.114.2             1         2              0\n",
       "1         2    13.3.25.8             1         1              0\n",
       "2         3  247.8.211.8             1         1              0\n",
       "3         4  124.8.220.3             0         3              0\n",
       "4         5  60.10.192.7             0         2              0"
      ]
     },
     "execution_count": 3,
     "metadata": {},
     "output_type": "execute_result"
    }
   ],
   "source": [
    "#Importing Data\n",
    "df = pd.read_csv('data.csv')\n",
    "df.head()"
   ]
  },
  {
   "cell_type": "code",
   "execution_count": 4,
   "id": "7174b773-e7a2-48cc-b017-d9474c03d007",
   "metadata": {
    "tags": []
   },
   "outputs": [
    {
     "name": "stdout",
     "output_type": "stream",
     "text": [
      "<class 'pandas.core.frame.DataFrame'>\n",
      "RangeIndex: 184588 entries, 0 to 184587\n",
      "Data columns (total 5 columns):\n",
      " #   Column         Non-Null Count   Dtype \n",
      "---  ------         --------------   ----- \n",
      " 0   RecordID       184588 non-null  int64 \n",
      " 1   IP Address     184588 non-null  object\n",
      " 2   LoggedInFlag   184588 non-null  int64 \n",
      " 3   ServerID       184588 non-null  int64 \n",
      " 4   VisitPageFlag  184588 non-null  int64 \n",
      "dtypes: int64(4), object(1)\n",
      "memory usage: 7.0+ MB\n"
     ]
    }
   ],
   "source": [
    "#Checking Data\n",
    "df.info()"
   ]
  },
  {
   "cell_type": "code",
   "execution_count": 5,
   "id": "13b73d74-0b0e-40d5-b317-639f1150a1fb",
   "metadata": {},
   "outputs": [],
   "source": [
    "#Removing 'Record Id' and grouping to make one row per IP address\n",
    "df.drop(['RecordID'], axis=1, inplace=True)\n",
    "df = df.groupby([\"IP Address\", \"LoggedInFlag\", \"ServerID\"])[\"VisitPageFlag\"].sum()\n",
    "df = df.reset_index(name=\"TotalVisitPageFlag\")"
   ]
  },
  {
   "cell_type": "code",
   "execution_count": 6,
   "id": "ba4fe06b-001c-4db1-b0d4-54c9eafe88a5",
   "metadata": {},
   "outputs": [
    {
     "data": {
      "text/html": [
       "<div>\n",
       "<style scoped>\n",
       "    .dataframe tbody tr th:only-of-type {\n",
       "        vertical-align: middle;\n",
       "    }\n",
       "\n",
       "    .dataframe tbody tr th {\n",
       "        vertical-align: top;\n",
       "    }\n",
       "\n",
       "    .dataframe thead th {\n",
       "        text-align: right;\n",
       "    }\n",
       "</style>\n",
       "<table border=\"1\" class=\"dataframe\">\n",
       "  <thead>\n",
       "    <tr style=\"text-align: right;\">\n",
       "      <th></th>\n",
       "      <th>IP Address</th>\n",
       "      <th>LoggedInFlag</th>\n",
       "      <th>ServerID</th>\n",
       "      <th>TotalVisitPageFlag</th>\n",
       "    </tr>\n",
       "  </thead>\n",
       "  <tbody>\n",
       "    <tr>\n",
       "      <th>7</th>\n",
       "      <td>0.0.181.9</td>\n",
       "      <td>0</td>\n",
       "      <td>1</td>\n",
       "      <td>1</td>\n",
       "    </tr>\n",
       "    <tr>\n",
       "      <th>13</th>\n",
       "      <td>0.0.209.9</td>\n",
       "      <td>0</td>\n",
       "      <td>3</td>\n",
       "      <td>1</td>\n",
       "    </tr>\n",
       "    <tr>\n",
       "      <th>16</th>\n",
       "      <td>0.0.220.4</td>\n",
       "      <td>0</td>\n",
       "      <td>1</td>\n",
       "      <td>1</td>\n",
       "    </tr>\n",
       "    <tr>\n",
       "      <th>29</th>\n",
       "      <td>0.1.123.6</td>\n",
       "      <td>0</td>\n",
       "      <td>1</td>\n",
       "      <td>1</td>\n",
       "    </tr>\n",
       "    <tr>\n",
       "      <th>34</th>\n",
       "      <td>0.1.192.9</td>\n",
       "      <td>0</td>\n",
       "      <td>2</td>\n",
       "      <td>1</td>\n",
       "    </tr>\n",
       "    <tr>\n",
       "      <th>...</th>\n",
       "      <td>...</td>\n",
       "      <td>...</td>\n",
       "      <td>...</td>\n",
       "      <td>...</td>\n",
       "    </tr>\n",
       "    <tr>\n",
       "      <th>99725</th>\n",
       "      <td>99.8.95.8</td>\n",
       "      <td>0</td>\n",
       "      <td>2</td>\n",
       "      <td>1</td>\n",
       "    </tr>\n",
       "    <tr>\n",
       "      <th>99731</th>\n",
       "      <td>99.9.122.3</td>\n",
       "      <td>0</td>\n",
       "      <td>3</td>\n",
       "      <td>1</td>\n",
       "    </tr>\n",
       "    <tr>\n",
       "      <th>99744</th>\n",
       "      <td>99.9.199.3</td>\n",
       "      <td>0</td>\n",
       "      <td>1</td>\n",
       "      <td>1</td>\n",
       "    </tr>\n",
       "    <tr>\n",
       "      <th>99748</th>\n",
       "      <td>99.9.215.4</td>\n",
       "      <td>0</td>\n",
       "      <td>3</td>\n",
       "      <td>1</td>\n",
       "    </tr>\n",
       "    <tr>\n",
       "      <th>99761</th>\n",
       "      <td>99.9.86.3</td>\n",
       "      <td>0</td>\n",
       "      <td>1</td>\n",
       "      <td>1</td>\n",
       "    </tr>\n",
       "  </tbody>\n",
       "</table>\n",
       "<p>9238 rows × 4 columns</p>\n",
       "</div>"
      ],
      "text/plain": [
       "       IP Address  LoggedInFlag  ServerID  TotalVisitPageFlag\n",
       "7       0.0.181.9             0         1                   1\n",
       "13      0.0.209.9             0         3                   1\n",
       "16      0.0.220.4             0         1                   1\n",
       "29      0.1.123.6             0         1                   1\n",
       "34      0.1.192.9             0         2                   1\n",
       "...           ...           ...       ...                 ...\n",
       "99725   99.8.95.8             0         2                   1\n",
       "99731  99.9.122.3             0         3                   1\n",
       "99744  99.9.199.3             0         1                   1\n",
       "99748  99.9.215.4             0         3                   1\n",
       "99761   99.9.86.3             0         1                   1\n",
       "\n",
       "[9238 rows x 4 columns]"
      ]
     },
     "execution_count": 6,
     "metadata": {},
     "output_type": "execute_result"
    }
   ],
   "source": [
    "df[df['TotalVisitPageFlag'] == 1]"
   ]
  },
  {
   "cell_type": "code",
   "execution_count": 7,
   "id": "1e2e1a2b-8871-493b-ae8d-69021b1f0bdb",
   "metadata": {},
   "outputs": [
    {
     "data": {
      "text/html": [
       "<div>\n",
       "<style scoped>\n",
       "    .dataframe tbody tr th:only-of-type {\n",
       "        vertical-align: middle;\n",
       "    }\n",
       "\n",
       "    .dataframe tbody tr th {\n",
       "        vertical-align: top;\n",
       "    }\n",
       "\n",
       "    .dataframe thead th {\n",
       "        text-align: right;\n",
       "    }\n",
       "</style>\n",
       "<table border=\"1\" class=\"dataframe\">\n",
       "  <thead>\n",
       "    <tr style=\"text-align: right;\">\n",
       "      <th></th>\n",
       "      <th>IP Address</th>\n",
       "      <th>LoggedInFlag</th>\n",
       "      <th>ServerID</th>\n",
       "      <th>VisitPageFlag</th>\n",
       "    </tr>\n",
       "  </thead>\n",
       "  <tbody>\n",
       "    <tr>\n",
       "      <th>0</th>\n",
       "      <td>0.0.108.2</td>\n",
       "      <td>0</td>\n",
       "      <td>1</td>\n",
       "      <td>0</td>\n",
       "    </tr>\n",
       "    <tr>\n",
       "      <th>1</th>\n",
       "      <td>0.0.109.6</td>\n",
       "      <td>1</td>\n",
       "      <td>1</td>\n",
       "      <td>0</td>\n",
       "    </tr>\n",
       "    <tr>\n",
       "      <th>2</th>\n",
       "      <td>0.0.111.8</td>\n",
       "      <td>0</td>\n",
       "      <td>3</td>\n",
       "      <td>0</td>\n",
       "    </tr>\n",
       "    <tr>\n",
       "      <th>3</th>\n",
       "      <td>0.0.160.9</td>\n",
       "      <td>1</td>\n",
       "      <td>2</td>\n",
       "      <td>0</td>\n",
       "    </tr>\n",
       "    <tr>\n",
       "      <th>4</th>\n",
       "      <td>0.0.163.1</td>\n",
       "      <td>0</td>\n",
       "      <td>2</td>\n",
       "      <td>0</td>\n",
       "    </tr>\n",
       "  </tbody>\n",
       "</table>\n",
       "</div>"
      ],
      "text/plain": [
       "  IP Address  LoggedInFlag  ServerID  VisitPageFlag\n",
       "0  0.0.108.2             0         1              0\n",
       "1  0.0.109.6             1         1              0\n",
       "2  0.0.111.8             0         3              0\n",
       "3  0.0.160.9             1         2              0\n",
       "4  0.0.163.1             0         2              0"
      ]
     },
     "execution_count": 7,
     "metadata": {},
     "output_type": "execute_result"
    }
   ],
   "source": [
    "#checking if there is IP address with more than 1 visit\n",
    "df[\"VisitPageFlag\"] = df[\"TotalVisitPageFlag\"].apply(lambda x: 1 if x != 0 else 0)\n",
    "df.drop(\"TotalVisitPageFlag\", axis=1, inplace=True)\n",
    "df.head()"
   ]
  },
  {
   "cell_type": "code",
   "execution_count": 8,
   "id": "debf1806-e575-4dff-8678-62a51d09aee5",
   "metadata": {},
   "outputs": [
    {
     "data": {
      "text/plain": [
       "0"
      ]
     },
     "execution_count": 8,
     "metadata": {},
     "output_type": "execute_result"
    }
   ],
   "source": [
    "df.duplicated().sum()"
   ]
  },
  {
   "cell_type": "markdown",
   "id": "f535db4f-2bbf-410d-87a4-7ae49042e27c",
   "metadata": {},
   "source": [
    "We decided to keep visitors who are logged in into our data. Due to our app only have been released recently <br>\n",
    "we are under the assumption that our user does not aware that we are available on mobile app. For that reason <br>\n",
    "we also include our user, so that the data would scope our visitors in general, both logged in and not."
   ]
  },
  {
   "cell_type": "code",
   "execution_count": 9,
   "id": "f4cb4a62-6e3d-4408-a9d3-a17662171eb2",
   "metadata": {
    "tags": []
   },
   "outputs": [
    {
     "data": {
      "text/plain": [
       "IP Address       9978\n",
       "LoggedInFlag     9978\n",
       "ServerID         9978\n",
       "VisitPageFlag    9978\n",
       "dtype: int64"
      ]
     },
     "execution_count": 9,
     "metadata": {},
     "output_type": "execute_result"
    }
   ],
   "source": [
    "#Potential Users\n",
    "df_filtered = df[(df['LoggedInFlag'] == 0) & (df['VisitPageFlag'] == 1)]\n",
    "df_filtered.count()"
   ]
  },
  {
   "cell_type": "markdown",
   "id": "d0ccd317-077f-4544-ad02-9644cfb0ac55",
   "metadata": {
    "tags": []
   },
   "source": [
    "## A/A Testing"
   ]
  },
  {
   "cell_type": "code",
   "execution_count": 10,
   "id": "9832d6cf-db40-4e04-813c-627259a9a126",
   "metadata": {},
   "outputs": [],
   "source": [
    "import matplotlib.pyplot as plt\n",
    "import seaborn as sns\n",
    "import statsmodels.api as sm\n",
    "import scipy.stats as stats\n",
    "from statsmodels.stats.proportion import proportions_ztest"
   ]
  },
  {
   "cell_type": "code",
   "execution_count": 11,
   "id": "f1a902ac-074f-43a1-a211-06a532ec09c1",
   "metadata": {},
   "outputs": [
    {
     "data": {
      "text/html": [
       "<div>\n",
       "<style scoped>\n",
       "    .dataframe tbody tr th:only-of-type {\n",
       "        vertical-align: middle;\n",
       "    }\n",
       "\n",
       "    .dataframe tbody tr th {\n",
       "        vertical-align: top;\n",
       "    }\n",
       "\n",
       "    .dataframe thead th {\n",
       "        text-align: right;\n",
       "    }\n",
       "</style>\n",
       "<table border=\"1\" class=\"dataframe\">\n",
       "  <thead>\n",
       "    <tr style=\"text-align: right;\">\n",
       "      <th></th>\n",
       "      <th>ServerID</th>\n",
       "      <th>Distribution</th>\n",
       "    </tr>\n",
       "  </thead>\n",
       "  <tbody>\n",
       "    <tr>\n",
       "      <th>0</th>\n",
       "      <td>1</td>\n",
       "      <td>33303</td>\n",
       "    </tr>\n",
       "    <tr>\n",
       "      <th>1</th>\n",
       "      <td>3</td>\n",
       "      <td>33276</td>\n",
       "    </tr>\n",
       "    <tr>\n",
       "      <th>2</th>\n",
       "      <td>2</td>\n",
       "      <td>33184</td>\n",
       "    </tr>\n",
       "  </tbody>\n",
       "</table>\n",
       "</div>"
      ],
      "text/plain": [
       "   ServerID  Distribution\n",
       "0         1         33303\n",
       "1         3         33276\n",
       "2         2         33184"
      ]
     },
     "execution_count": 11,
     "metadata": {},
     "output_type": "execute_result"
    }
   ],
   "source": [
    "#Server Distribution to visitors\n",
    "server_distribution = pd.DataFrame({\n",
    "    'ServerID': df[\"ServerID\"].value_counts().index,\n",
    "    'Distribution': df[\"ServerID\"].value_counts().values\n",
    "})\n",
    "server_distribution"
   ]
  },
  {
   "cell_type": "code",
   "execution_count": 12,
   "id": "9191a1e4-8770-4b0e-9643-e23691135df9",
   "metadata": {},
   "outputs": [
    {
     "data": {
      "image/png": "[encoded data removed]",
      "text/plain": [
       "<Figure size 640x480 with 1 Axes>"
      ]
     },
     "metadata": {},
     "output_type": "display_data"
    }
   ],
   "source": [
    "# Distribusi dari Server ID\n",
    "plt.bar(server_distribution['ServerID'], server_distribution['Distribution'])\n",
    "\n",
    "#labels and title\n",
    "plt.xlabel('ServerID')\n",
    "plt.ylabel('Distribution')\n",
    "plt.title('Distribution by ServerID')\n",
    "\n",
    "# Show the plot\n",
    "plt.show()"
   ]
  },
  {
   "cell_type": "code",
   "execution_count": 13,
   "id": "5a5ac6b0-5de5-49f4-9d1e-1eec65bb0f8f",
   "metadata": {},
   "outputs": [
    {
     "data": {
      "text/html": [
       "<div>\n",
       "<style scoped>\n",
       "    .dataframe tbody tr th:only-of-type {\n",
       "        vertical-align: middle;\n",
       "    }\n",
       "\n",
       "    .dataframe tbody tr th {\n",
       "        vertical-align: top;\n",
       "    }\n",
       "\n",
       "    .dataframe thead th {\n",
       "        text-align: right;\n",
       "    }\n",
       "</style>\n",
       "<table border=\"1\" class=\"dataframe\">\n",
       "  <thead>\n",
       "    <tr style=\"text-align: right;\">\n",
       "      <th></th>\n",
       "      <th>IP Address</th>\n",
       "      <th>LoggedInFlag</th>\n",
       "      <th>VisitPageFlag</th>\n",
       "    </tr>\n",
       "  </thead>\n",
       "  <tbody>\n",
       "    <tr>\n",
       "      <th>0</th>\n",
       "      <td>0.0.108.2</td>\n",
       "      <td>0</td>\n",
       "      <td>0</td>\n",
       "    </tr>\n",
       "    <tr>\n",
       "      <th>1</th>\n",
       "      <td>0.0.109.6</td>\n",
       "      <td>1</td>\n",
       "      <td>0</td>\n",
       "    </tr>\n",
       "    <tr>\n",
       "      <th>2</th>\n",
       "      <td>0.0.111.8</td>\n",
       "      <td>0</td>\n",
       "      <td>0</td>\n",
       "    </tr>\n",
       "    <tr>\n",
       "      <th>3</th>\n",
       "      <td>0.0.160.9</td>\n",
       "      <td>1</td>\n",
       "      <td>0</td>\n",
       "    </tr>\n",
       "    <tr>\n",
       "      <th>4</th>\n",
       "      <td>0.0.163.1</td>\n",
       "      <td>0</td>\n",
       "      <td>0</td>\n",
       "    </tr>\n",
       "  </tbody>\n",
       "</table>\n",
       "</div>"
      ],
      "text/plain": [
       "  IP Address  LoggedInFlag  VisitPageFlag\n",
       "0  0.0.108.2             0              0\n",
       "1  0.0.109.6             1              0\n",
       "2  0.0.111.8             0              0\n",
       "3  0.0.160.9             1              0\n",
       "4  0.0.163.1             0              0"
      ]
     },
     "execution_count": 13,
     "metadata": {},
     "output_type": "execute_result"
    }
   ],
   "source": [
    "# Drop Server ID, we want to treat the Data equally\n",
    "data_1 = df.drop(['ServerID'], axis = 1)\n",
    "data_1.head()"
   ]
  },
  {
   "cell_type": "code",
   "execution_count": 14,
   "id": "448709da-ea4f-4c15-b1ed-f27b9044467b",
   "metadata": {
    "tags": []
   },
   "outputs": [
    {
     "name": "stdout",
     "output_type": "stream",
     "text": [
      "Grup Control A:\n",
      "Control Visit: 2458\n",
      "Observasi control: 24941\n",
      "CTR Control: 0.0985525840984724\n",
      "-----------------------------------\n",
      "Grup Treatment A:\n",
      "Control Visit: 2446\n",
      "Observasi control: 24941\n",
      "CTR Treatment: 0.09807144861874023\n",
      "___________________________________\n",
      "Confidence Interval : 95%\n",
      "Z-statistic: 0.180\n",
      "p-value: 0.572\n",
      "Confidence Interval (Upper & Lower bounds) : (-0.005707856057668389, 0.004745499250237824)\n",
      "Decision : Fail to Reject Null Hypothesis\n"
     ]
    }
   ],
   "source": [
    "# Draw 25%  from sample without replacement replacement (SRS)\n",
    "control_subset = data_1.sample(frac = 0.25, replace = False, random_state = 1)\n",
    "treatment_subset = data_1.sample(frac = 0.25, replace = False, random_state = 111)\n",
    "\n",
    "#Counting sample Proportion\n",
    "count_visit_1c = len(control_subset[control_subset['VisitPageFlag']==1])\n",
    "sample_size_1c = len(control_subset)\n",
    "\n",
    "count_visit_1t = len(treatment_subset[treatment_subset['VisitPageFlag']==1])\n",
    "sample_size_1t = len(treatment_subset)\n",
    "\n",
    "\n",
    "# Cetak rerata, standar deviasi, dan jumlah sampel\n",
    "c_ratio = count_visit_1c / sample_size_1c\n",
    "c_obs = sample_size_1c\n",
    "t_ratio = count_visit_1t / sample_size_1t\n",
    "t_obs = sample_size_1t\n",
    "\n",
    "print('Grup Control A:')\n",
    "print(f'Control Visit: {count_visit_1c}')\n",
    "print(f'Observasi control: {c_obs}')\n",
    "print(f'CTR Control: {c_ratio}')\n",
    "print('-----------------------------------')\n",
    "print('Grup Treatment A:')\n",
    "print(f'Control Visit: {count_visit_1t}')\n",
    "print(f'Observasi control: {t_obs}')\n",
    "print(f'CTR Treatment: {t_ratio}')\n",
    "print('___________________________________')\n",
    "\n",
    "\n",
    "print('Confidence Interval : 95%')\n",
    "stat, pvalue = proportions_ztest([count_visit_1c, count_visit_1t], [sample_size_1c, sample_size_1t], alternative='smaller')\n",
    "print(f\"Z-statistic: {stat:0.3f}\")\n",
    "print(f\"p-value: {pvalue:0.3f}\")\n",
    "\n",
    "from statsmodels.stats.proportion import confint_proportions_2indep\n",
    "\n",
    "confidence_interval = confint_proportions_2indep(count1 = count_visit_1t, nobs1 = sample_size_1t,\n",
    "                                                 count2 = count_visit_1c, nobs2 = sample_size_1c,\n",
    "                                                 compare='diff', alpha=0.05) #difference\n",
    "\n",
    "print(f\"Confidence Interval (Upper & Lower bounds) : {confidence_interval}\")\n",
    "\n",
    "alpha = 0.05\n",
    "if(pvalue <  alpha):\n",
    "  print(\"Decision : Reject Null Hypothesis\")\n",
    "else:\n",
    "  print(\"Decision : Fail to Reject Null Hypothesis\")"
   ]
  },
  {
   "cell_type": "markdown",
   "id": "e31d2960-20fb-4bde-8627-43b708072990",
   "metadata": {},
   "source": [
    "> $H_0: {CTR, Control} >= {CTR, Treatment}$ <br>\n",
    "> $H_1: {CTR,  Control} < {CTR, Treatment}$ <BR>"
   ]
  },
  {
   "cell_type": "code",
   "execution_count": 15,
   "id": "dd308c52-b969-48ec-bf08-8b6638731a34",
   "metadata": {
    "tags": []
   },
   "outputs": [
    {
     "data": {
      "text/html": [
       "<div>\n",
       "<style scoped>\n",
       "    .dataframe tbody tr th:only-of-type {\n",
       "        vertical-align: middle;\n",
       "    }\n",
       "\n",
       "    .dataframe tbody tr th {\n",
       "        vertical-align: top;\n",
       "    }\n",
       "\n",
       "    .dataframe thead th {\n",
       "        text-align: right;\n",
       "    }\n",
       "</style>\n",
       "<table border=\"1\" class=\"dataframe\">\n",
       "  <thead>\n",
       "    <tr style=\"text-align: right;\">\n",
       "      <th></th>\n",
       "      <th>Simulation</th>\n",
       "      <th>P-value</th>\n",
       "    </tr>\n",
       "  </thead>\n",
       "  <tbody>\n",
       "    <tr>\n",
       "      <th>0</th>\n",
       "      <td>1</td>\n",
       "      <td>0.745108</td>\n",
       "    </tr>\n",
       "    <tr>\n",
       "      <th>1</th>\n",
       "      <td>2</td>\n",
       "      <td>0.205504</td>\n",
       "    </tr>\n",
       "    <tr>\n",
       "      <th>2</th>\n",
       "      <td>3</td>\n",
       "      <td>0.793705</td>\n",
       "    </tr>\n",
       "    <tr>\n",
       "      <th>3</th>\n",
       "      <td>4</td>\n",
       "      <td>0.393391</td>\n",
       "    </tr>\n",
       "    <tr>\n",
       "      <th>4</th>\n",
       "      <td>5</td>\n",
       "      <td>0.193973</td>\n",
       "    </tr>\n",
       "    <tr>\n",
       "      <th>...</th>\n",
       "      <td>...</td>\n",
       "      <td>...</td>\n",
       "    </tr>\n",
       "    <tr>\n",
       "      <th>495</th>\n",
       "      <td>496</td>\n",
       "      <td>0.470447</td>\n",
       "    </tr>\n",
       "    <tr>\n",
       "      <th>496</th>\n",
       "      <td>497</td>\n",
       "      <td>0.950031</td>\n",
       "    </tr>\n",
       "    <tr>\n",
       "      <th>497</th>\n",
       "      <td>498</td>\n",
       "      <td>0.266360</td>\n",
       "    </tr>\n",
       "    <tr>\n",
       "      <th>498</th>\n",
       "      <td>499</td>\n",
       "      <td>0.422356</td>\n",
       "    </tr>\n",
       "    <tr>\n",
       "      <th>499</th>\n",
       "      <td>500</td>\n",
       "      <td>0.140025</td>\n",
       "    </tr>\n",
       "  </tbody>\n",
       "</table>\n",
       "<p>500 rows × 2 columns</p>\n",
       "</div>"
      ],
      "text/plain": [
       "     Simulation   P-value\n",
       "0             1  0.745108\n",
       "1             2  0.205504\n",
       "2             3  0.793705\n",
       "3             4  0.393391\n",
       "4             5  0.193973\n",
       "..          ...       ...\n",
       "495         496  0.470447\n",
       "496         497  0.950031\n",
       "497         498  0.266360\n",
       "498         499  0.422356\n",
       "499         500  0.140025\n",
       "\n",
       "[500 rows x 2 columns]"
      ]
     },
     "execution_count": 15,
     "metadata": {},
     "output_type": "execute_result"
    }
   ],
   "source": [
    "# Perform 500 simulations\n",
    "num_simulations = 500\n",
    "p_values = []\n",
    "\n",
    "for i in range(num_simulations):\n",
    "    # Draw 25% from the full data without replacement (SRS)\n",
    "    control_subset = data_1.sample(frac=0.25, replace=False, random_state=i)\n",
    "    treatment_subset = data_1.sample(frac=0.25, replace=False, random_state=i + 500)  # Different random_state for treatment_subset\n",
    "    \n",
    "    # Count sample proportions for each subset\n",
    "    count_visit_1c = len(control_subset[control_subset['VisitPageFlag'] == 1])\n",
    "    sample_size_1c = len(control_subset)\n",
    "    \n",
    "    count_visit_1t = len(treatment_subset[treatment_subset['VisitPageFlag'] == 1])\n",
    "    sample_size_1t = len(treatment_subset)\n",
    "    \n",
    "    # Perform z-test for proportions\n",
    "    stat, pvalue = proportions_ztest([count_visit_1c, count_visit_1t], [sample_size_1c, sample_size_1t], alternative='smaller')\n",
    "    \n",
    "    # Append the p-value to the list\n",
    "    p_values.append(pvalue)\n",
    "\n",
    "# Create a DataFrame to store the p-values\n",
    "result_df = pd.DataFrame({'Simulation': np.arange(1, num_simulations + 1), 'P-value': p_values})\n",
    "\n",
    "# Print the DataFrame\n",
    "result_df"
   ]
  },
  {
   "cell_type": "code",
   "execution_count": 16,
   "id": "b4956fa3-ab34-4dbc-95f6-a44d112b5e47",
   "metadata": {},
   "outputs": [],
   "source": [
    "import matplotlib.pyplot as plt\n",
    "import seaborn as sns"
   ]
  },
  {
   "cell_type": "markdown",
   "id": "189fd319-84cd-4f36-bb6f-ce4ea6b87108",
   "metadata": {},
   "source": [
    "cumulative distribution function (CDF) Plot"
   ]
  },
  {
   "cell_type": "code",
   "execution_count": 17,
   "id": "42c7eddc-175c-4850-a1bc-95c1cd05aba2",
   "metadata": {
    "tags": []
   },
   "outputs": [
    {
     "data": {
      "image/png": "[encoded data removed]",
      "text/plain": [
       "<Figure size 1000x700 with 2 Axes>"
      ]
     },
     "metadata": {},
     "output_type": "display_data"
    }
   ],
   "source": [
    "# Create a figure and axes\n",
    "fig, ax = plt.subplots(figsize=(10, 7))\n",
    "\n",
    "# Visualization of p-values in histogram\n",
    "ax = sns.histplot(result_df['P-value'], bins=20, kde=False, color='skyblue', edgecolor='black')\n",
    "\n",
    "# Add a vertical line at the significance level (alpha)\n",
    "alpha = 0.05\n",
    "ax.axvline(x=alpha, linestyle='--', color='red', label='Significance Level (alpha=0.05)')\n",
    "\n",
    "# Calculate the CDF of the p-values\n",
    "sorted_p_values = np.sort(result_df['P-value'])\n",
    "cumulative_prob = np.arange(1, len(sorted_p_values) + 1) / len(sorted_p_values)\n",
    "\n",
    "# Plot the CDF\n",
    "ax2 = ax.twinx()  # Create a twin Axes sharing the same x-axis\n",
    "ax2.plot(sorted_p_values, cumulative_prob, color='green', label='CDF (P-values)')\n",
    "\n",
    "# Add diagonal reference line for uniform distribution\n",
    "ax2.plot([0, 1], [0, 1], color='gray', linestyle='--', label='Uniform Distribution')\n",
    "\n",
    "# Set axis labels and plot title\n",
    "ax.set_xlabel('P-value', fontsize=16)\n",
    "ax.set_ylabel('Frequency', fontsize=16)\n",
    "ax2.set_ylabel('Cumulative Probability', fontsize=16)\n",
    "plt.title('Distribution of P-values from 100 A/A Tests', fontsize=18)\n",
    "\n",
    "# Add legend and grid\n",
    "ax.legend(loc='upper left')\n",
    "ax2.legend(loc='upper right')\n",
    "plt.grid(True)\n",
    "\n",
    "# Display the plot\n",
    "plt.show()"
   ]
  },
  {
   "cell_type": "code",
   "execution_count": 18,
   "id": "c4f65f03-4803-400b-a186-7c4c64b841bc",
   "metadata": {},
   "outputs": [
    {
     "name": "stdout",
     "output_type": "stream",
     "text": [
      "P-value: 0.07376685360956925\n",
      "Decision : Fail to Reject Null Hypothesis\n"
     ]
    }
   ],
   "source": [
    "# Perform kolmogorov smirnof (KS) test\n",
    "result_ks = stats.kstest(rvs = result_df['P-value'],\n",
    "                         cdf = 'uniform')\n",
    "\n",
    "# save p-value of KS test\n",
    "p_value = result_ks[1]\n",
    "print('P-value:', p_value)\n",
    "\n",
    "# Make decision from kolmogorof smirnov test\n",
    "# We can compare p-value with alpha\n",
    "# if p-value > alpha, then fail to reject H0. It means that the data is uniformly distributed\n",
    "\n",
    "alpha = 0.05\n",
    "if(p_value <  alpha):\n",
    "  print(\"Decision : Reject Null Hypothesis\")\n",
    "else:\n",
    "  print(\"Decision : Fail to Reject Null Hypothesis\")"
   ]
  },
  {
   "cell_type": "markdown",
   "id": "a7fa332f-fcb2-40bb-85cf-11ac061cb2fb",
   "metadata": {},
   "source": [
    "We can conclude that The A/A test is success and the experiment is valid"
   ]
  },
  {
   "cell_type": "markdown",
   "id": "fcf66e20-a4c6-423d-b5c6-640be3ce69a2",
   "metadata": {},
   "source": [
    "## A/B Testing"
   ]
  },
  {
   "cell_type": "code",
   "execution_count": 19,
   "id": "17fc2e8a-e39e-4744-9242-65043539d45b",
   "metadata": {},
   "outputs": [
    {
     "data": {
      "text/html": [
       "<div>\n",
       "<style scoped>\n",
       "    .dataframe tbody tr th:only-of-type {\n",
       "        vertical-align: middle;\n",
       "    }\n",
       "\n",
       "    .dataframe tbody tr th {\n",
       "        vertical-align: top;\n",
       "    }\n",
       "\n",
       "    .dataframe thead th {\n",
       "        text-align: right;\n",
       "    }\n",
       "</style>\n",
       "<table border=\"1\" class=\"dataframe\">\n",
       "  <thead>\n",
       "    <tr style=\"text-align: right;\">\n",
       "      <th></th>\n",
       "      <th>IP Address</th>\n",
       "      <th>LoggedInFlag</th>\n",
       "      <th>ServerID</th>\n",
       "      <th>VisitPageFlag</th>\n",
       "    </tr>\n",
       "  </thead>\n",
       "  <tbody>\n",
       "    <tr>\n",
       "      <th>0</th>\n",
       "      <td>0.0.108.2</td>\n",
       "      <td>0</td>\n",
       "      <td>1</td>\n",
       "      <td>0</td>\n",
       "    </tr>\n",
       "    <tr>\n",
       "      <th>1</th>\n",
       "      <td>0.0.109.6</td>\n",
       "      <td>1</td>\n",
       "      <td>1</td>\n",
       "      <td>0</td>\n",
       "    </tr>\n",
       "    <tr>\n",
       "      <th>2</th>\n",
       "      <td>0.0.111.8</td>\n",
       "      <td>0</td>\n",
       "      <td>3</td>\n",
       "      <td>0</td>\n",
       "    </tr>\n",
       "    <tr>\n",
       "      <th>3</th>\n",
       "      <td>0.0.160.9</td>\n",
       "      <td>1</td>\n",
       "      <td>2</td>\n",
       "      <td>0</td>\n",
       "    </tr>\n",
       "    <tr>\n",
       "      <th>4</th>\n",
       "      <td>0.0.163.1</td>\n",
       "      <td>0</td>\n",
       "      <td>2</td>\n",
       "      <td>0</td>\n",
       "    </tr>\n",
       "  </tbody>\n",
       "</table>\n",
       "</div>"
      ],
      "text/plain": [
       "  IP Address  LoggedInFlag  ServerID  VisitPageFlag\n",
       "0  0.0.108.2             0         1              0\n",
       "1  0.0.109.6             1         1              0\n",
       "2  0.0.111.8             0         3              0\n",
       "3  0.0.160.9             1         2              0\n",
       "4  0.0.163.1             0         2              0"
      ]
     },
     "execution_count": 19,
     "metadata": {},
     "output_type": "execute_result"
    }
   ],
   "source": [
    "df.head()"
   ]
  },
  {
   "cell_type": "code",
   "execution_count": 20,
   "id": "62bf829a-9424-4768-8713-fed4ec32b400",
   "metadata": {},
   "outputs": [
    {
     "data": {
      "text/html": [
       "<div>\n",
       "<style scoped>\n",
       "    .dataframe tbody tr th:only-of-type {\n",
       "        vertical-align: middle;\n",
       "    }\n",
       "\n",
       "    .dataframe tbody tr th {\n",
       "        vertical-align: top;\n",
       "    }\n",
       "\n",
       "    .dataframe thead th {\n",
       "        text-align: right;\n",
       "    }\n",
       "</style>\n",
       "<table border=\"1\" class=\"dataframe\">\n",
       "  <thead>\n",
       "    <tr style=\"text-align: right;\">\n",
       "      <th></th>\n",
       "      <th>IP Address</th>\n",
       "      <th>LoggedInFlag</th>\n",
       "      <th>ServerID</th>\n",
       "      <th>VisitPageFlag</th>\n",
       "    </tr>\n",
       "  </thead>\n",
       "  <tbody>\n",
       "    <tr>\n",
       "      <th>0</th>\n",
       "      <td>0.0.108.2</td>\n",
       "      <td>0</td>\n",
       "      <td>Control</td>\n",
       "      <td>0</td>\n",
       "    </tr>\n",
       "    <tr>\n",
       "      <th>1</th>\n",
       "      <td>0.0.109.6</td>\n",
       "      <td>1</td>\n",
       "      <td>Control</td>\n",
       "      <td>0</td>\n",
       "    </tr>\n",
       "    <tr>\n",
       "      <th>2</th>\n",
       "      <td>0.0.111.8</td>\n",
       "      <td>0</td>\n",
       "      <td>Treatment</td>\n",
       "      <td>0</td>\n",
       "    </tr>\n",
       "    <tr>\n",
       "      <th>3</th>\n",
       "      <td>0.0.160.9</td>\n",
       "      <td>1</td>\n",
       "      <td>Control</td>\n",
       "      <td>0</td>\n",
       "    </tr>\n",
       "    <tr>\n",
       "      <th>4</th>\n",
       "      <td>0.0.163.1</td>\n",
       "      <td>0</td>\n",
       "      <td>Control</td>\n",
       "      <td>0</td>\n",
       "    </tr>\n",
       "  </tbody>\n",
       "</table>\n",
       "</div>"
      ],
      "text/plain": [
       "  IP Address  LoggedInFlag   ServerID  VisitPageFlag\n",
       "0  0.0.108.2             0    Control              0\n",
       "1  0.0.109.6             1    Control              0\n",
       "2  0.0.111.8             0  Treatment              0\n",
       "3  0.0.160.9             1    Control              0\n",
       "4  0.0.163.1             0    Control              0"
      ]
     },
     "execution_count": 20,
     "metadata": {},
     "output_type": "execute_result"
    }
   ],
   "source": [
    "# Adressing Control and treatment\n",
    "df['ServerID'] = df['ServerID'].replace({\n",
    "    1 : 'Control',\n",
    "    2 : 'Control',\n",
    "    3 : 'Treatment'\n",
    "})\n",
    "df.head()"
   ]
  },
  {
   "cell_type": "code",
   "execution_count": 21,
   "id": "35d06bc6-a6fc-4799-9d29-b057770af563",
   "metadata": {
    "tags": []
   },
   "outputs": [
    {
     "data": {
      "text/plain": [
       "IP Address    LoggedInFlag  ServerID  VisitPageFlag\n",
       "0.0.108.2     0             Control   0                1\n",
       "251.7.217.4   0             Control   0                1\n",
       "251.5.196.9   1             Control   0                1\n",
       "251.5.200.4   1             Control   0                1\n",
       "251.5.200.5   0             Control   0                1\n",
       "                                                      ..\n",
       "175.11.157.5  0             Control   0                1\n",
       "175.11.200.3  1             Control   0                1\n",
       "175.11.205.2  0             Control   0                1\n",
       "175.11.211.9  1             Control   0                1\n",
       "99.9.86.9     0             Control   0                1\n",
       "Length: 66487, dtype: int64"
      ]
     },
     "execution_count": 21,
     "metadata": {},
     "output_type": "execute_result"
    }
   ],
   "source": [
    "df_control = df[df['ServerID'] == 'Control']\n",
    "df_control.value_counts()"
   ]
  },
  {
   "cell_type": "code",
   "execution_count": 22,
   "id": "44137272-8896-4fd5-8cf2-ab2c74c3f8fc",
   "metadata": {
    "tags": []
   },
   "outputs": [
    {
     "data": {
      "text/plain": [
       "IP Address   LoggedInFlag  ServerID   VisitPageFlag\n",
       "0.0.111.8    0             Treatment  0                1\n",
       "250.6.168.8  1             Treatment  0                1\n",
       "251.0.76.8   1             Treatment  0                1\n",
       "251.0.69.9   0             Treatment  1                1\n",
       "251.0.237.2  1             Treatment  0                1\n",
       "                                                      ..\n",
       "175.6.87.8   0             Treatment  0                1\n",
       "175.6.75.7   0             Treatment  0                1\n",
       "175.6.247.3  1             Treatment  0                1\n",
       "175.6.241.2  0             Treatment  0                1\n",
       "99.9.254.9   1             Treatment  0                1\n",
       "Length: 33276, dtype: int64"
      ]
     },
     "execution_count": 22,
     "metadata": {},
     "output_type": "execute_result"
    }
   ],
   "source": [
    "df_treatment = df[df['ServerID'] == 'Treatment']\n",
    "df_treatment.value_counts()"
   ]
  },
  {
   "cell_type": "code",
   "execution_count": 23,
   "id": "cc86dbb1-8427-4dff-9951-203217980c95",
   "metadata": {
    "tags": []
   },
   "outputs": [
    {
     "name": "stdout",
     "output_type": "stream",
     "text": [
      "Grup Control A:\n",
      "Control Visit: 276\n",
      "Observasi control: 2500\n",
      "CTR Control: 0.1104\n",
      "-----------------------------------\n",
      "Grup Treatment B:\n",
      "Control Visit: 251\n",
      "Observasi control: 2500\n",
      "CTR Treatment: 0.1004\n",
      "___________________________________\n",
      "Confidence Interval : 95%\n",
      "Z-statistic: 1.151\n",
      "p-value: 0.875\n",
      "Confidence Interval (Upper & Lower bounds) : (-0.007043413691567413, 0.027057405486354418)\n",
      "Decision : Fail to Reject Null Hypothesis\n"
     ]
    }
   ],
   "source": [
    "# Draw 2500  from sample without replacement replacement (SRS)\n",
    "n = 2500\n",
    "control_sample = df_control.sample(n=n , replace = False)\n",
    "treatment_sample = df_treatment.sample(n=n , replace = False)\n",
    "\n",
    "#Counting sample Proportion\n",
    "count_visit_control = len(control_sample[control_sample['VisitPageFlag']==1])\n",
    "count_visit_treatment = len(treatment_sample[treatment_sample['VisitPageFlag']==1])\n",
    "sample_size = n\n",
    "\n",
    "\n",
    "# Cetak rerata, standar deviasi, dan jumlah sampel\n",
    "control_propotion = count_visit_control / n\n",
    "treatment_proportion = count_visit_treatment / n\n",
    "\n",
    "\n",
    "print('Grup Control A:')\n",
    "print(f'Control Visit: {count_visit_control}')\n",
    "print(f'Observasi control: {n}')\n",
    "print(f'CTR Control: {control_propotion}')\n",
    "print('-----------------------------------')\n",
    "print('Grup Treatment B:')\n",
    "print(f'Control Visit: {count_visit_treatment}')\n",
    "print(f'Observasi control: {n}')\n",
    "print(f'CTR Treatment: {treatment_proportion}')\n",
    "print('___________________________________')\n",
    "\n",
    "\n",
    "print('Confidence Interval : 95%')\n",
    "stat, pvalue = proportions_ztest([count_visit_control, count_visit_treatment], [n, n], alternative='smaller')\n",
    "print(f\"Z-statistic: {stat:0.3f}\")\n",
    "print(f\"p-value: {pvalue:0.3f}\")\n",
    "\n",
    "#Confidence Interval, Alpha = 0.05\n",
    "confidence_interval = confint_proportions_2indep(count1 = count_visit_control, nobs1 = n,\n",
    "                                                 count2 = count_visit_treatment, nobs2 = n,\n",
    "                                                 compare='diff', alpha=0.05) #difference\n",
    "\n",
    "print(f\"Confidence Interval (Upper & Lower bounds) : {confidence_interval}\")\n",
    "\n",
    "alpha = 0.05\n",
    "if(pvalue <  alpha):\n",
    "  print(\"Decision : Reject Null Hypothesis\")\n",
    "else:\n",
    "  print(\"Decision : Fail to Reject Null Hypothesis\")"
   ]
  },
  {
   "cell_type": "markdown",
   "id": "83937bcc-493e-484a-b435-bf9d4e1f2b54",
   "metadata": {},
   "source": [
    "> $H_0: {CTR, Control} >= {CTR, Treatment}$ <br>\n",
    "> $H_1: {CTR,  Control} < {CTR, Treatment}$ <BR>"
   ]
  },
  {
   "cell_type": "markdown",
   "id": "ef0cef13-19c9-4baf-b0ba-8fea50aec427",
   "metadata": {
    "jp-MarkdownHeadingCollapsed": true,
    "tags": []
   },
   "source": [
    "## Two Weeks Experiment"
   ]
  },
  {
   "cell_type": "code",
   "execution_count": 24,
   "id": "26d78999-4056-47ee-946e-059631f8a0fc",
   "metadata": {},
   "outputs": [],
   "source": [
    "from statsmodels.stats.proportion import proportions_ztest, confint_proportions_2indep\n",
    "\n",
    "def count_ctr_app(data_control, data_treatment, visit_column):\n",
    "    n = len(data_control)\n",
    "    \n",
    "    count_visit_control = len(data_control[data_control[visit_column] == 1])\n",
    "    count_visit_treatment = len(data_treatment[data_treatment[visit_column] == 1])\n",
    "\n",
    "    control_proportion = count_visit_control / n\n",
    "    treatment_proportion = count_visit_treatment / n\n",
    "\n",
    "    stat, pvalue = proportions_ztest([count_visit_control, count_visit_treatment], [n, n], alternative='smaller')\n",
    "\n",
    "    confidence_interval = confint_proportions_2indep(count1=count_visit_control, nobs1=n,\n",
    "                                                     count2=count_visit_treatment, nobs2=n,\n",
    "                                                     compare='diff', alpha=0.05)\n",
    "\n",
    "    decision = \"Reject Null Hypothesis\" if pvalue < 0.05 else \"Fail to Reject Null Hypothesis\"\n",
    "\n",
    "    result = {\n",
    "        'Control Visit': count_visit_control,\n",
    "        'Control Rate': control_proportion,\n",
    "        'Treatment Visit': count_visit_treatment,\n",
    "        'Treatment Rate': treatment_proportion,\n",
    "        'Z-Statistic': stat,\n",
    "        'P-Value': pvalue,\n",
    "        '(Lower Bound)': confidence_interval[0],\n",
    "        '(Upper Bound)': confidence_interval[1],\n",
    "        'Decision': decision\n",
    "    }\n",
    "\n",
    "    return result"
   ]
  },
  {
   "cell_type": "code",
   "execution_count": 25,
   "id": "d64e588e-a49a-467c-afa5-4e04e93a537f",
   "metadata": {},
   "outputs": [
    {
     "data": {
      "text/html": [
       "<div>\n",
       "<style scoped>\n",
       "    .dataframe tbody tr th:only-of-type {\n",
       "        vertical-align: middle;\n",
       "    }\n",
       "\n",
       "    .dataframe tbody tr th {\n",
       "        vertical-align: top;\n",
       "    }\n",
       "\n",
       "    .dataframe thead th {\n",
       "        text-align: right;\n",
       "    }\n",
       "</style>\n",
       "<table border=\"1\" class=\"dataframe\">\n",
       "  <thead>\n",
       "    <tr style=\"text-align: right;\">\n",
       "      <th></th>\n",
       "      <th>Control Visit</th>\n",
       "      <th>Control Rate</th>\n",
       "      <th>Treatment Visit</th>\n",
       "      <th>Treatment Rate</th>\n",
       "      <th>Z-Statistic</th>\n",
       "      <th>P-Value</th>\n",
       "      <th>(Lower Bound)</th>\n",
       "      <th>(Upper Bound)</th>\n",
       "      <th>Decision</th>\n",
       "    </tr>\n",
       "  </thead>\n",
       "  <tbody>\n",
       "    <tr>\n",
       "      <th>Day 1</th>\n",
       "      <td>162</td>\n",
       "      <td>0.108</td>\n",
       "      <td>142</td>\n",
       "      <td>0.094667</td>\n",
       "      <td>1.210024</td>\n",
       "      <td>0.886865</td>\n",
       "      <td>-0.008309</td>\n",
       "      <td>0.035011</td>\n",
       "      <td>Fail to Reject Null Hypothesis</td>\n",
       "    </tr>\n",
       "  </tbody>\n",
       "</table>\n",
       "</div>"
      ],
      "text/plain": [
       "       Control Visit  Control Rate  Treatment Visit  Treatment Rate  \\\n",
       "Day 1            162         0.108              142        0.094667   \n",
       "\n",
       "       Z-Statistic   P-Value  (Lower Bound)  (Upper Bound)  \\\n",
       "Day 1     1.210024  0.886865      -0.008309       0.035011   \n",
       "\n",
       "                             Decision  \n",
       "Day 1  Fail to Reject Null Hypothesis  "
      ]
     },
     "execution_count": 25,
     "metadata": {},
     "output_type": "execute_result"
    }
   ],
   "source": [
    "# Day 1\n",
    "n = 1500\n",
    "result_list = []\n",
    "data_control = df_control.sample(n=n, replace=False)\n",
    "data_treatment = df_treatment.sample(n=n, replace=False)\n",
    "visit_column = 'VisitPageFlag'\n",
    "\n",
    "result_list.append(pd.DataFrame(count_ctr_app(data_control, data_treatment, visit_column), index=['Day 1']))\n",
    "final_count = pd.concat(result_list)\n",
    "final_count"
   ]
  },
  {
   "cell_type": "code",
   "execution_count": 26,
   "id": "cfce085c-b6d0-4199-9f29-1861e1c17d68",
   "metadata": {},
   "outputs": [
    {
     "data": {
      "text/html": [
       "<div>\n",
       "<style scoped>\n",
       "    .dataframe tbody tr th:only-of-type {\n",
       "        vertical-align: middle;\n",
       "    }\n",
       "\n",
       "    .dataframe tbody tr th {\n",
       "        vertical-align: top;\n",
       "    }\n",
       "\n",
       "    .dataframe thead th {\n",
       "        text-align: right;\n",
       "    }\n",
       "</style>\n",
       "<table border=\"1\" class=\"dataframe\">\n",
       "  <thead>\n",
       "    <tr style=\"text-align: right;\">\n",
       "      <th></th>\n",
       "      <th>Control Visit</th>\n",
       "      <th>Control Rate</th>\n",
       "      <th>Treatment Visit</th>\n",
       "      <th>Treatment Rate</th>\n",
       "      <th>Z-Statistic</th>\n",
       "      <th>P-Value</th>\n",
       "      <th>(Lower Bound)</th>\n",
       "      <th>(Upper Bound)</th>\n",
       "      <th>Decision</th>\n",
       "    </tr>\n",
       "  </thead>\n",
       "  <tbody>\n",
       "    <tr>\n",
       "      <th>Day 1</th>\n",
       "      <td>162</td>\n",
       "      <td>0.108000</td>\n",
       "      <td>142</td>\n",
       "      <td>0.094667</td>\n",
       "      <td>1.210024</td>\n",
       "      <td>0.886865</td>\n",
       "      <td>-0.008309</td>\n",
       "      <td>0.035011</td>\n",
       "      <td>Fail to Reject Null Hypothesis</td>\n",
       "    </tr>\n",
       "    <tr>\n",
       "      <th>Day 2</th>\n",
       "      <td>188</td>\n",
       "      <td>0.125333</td>\n",
       "      <td>137</td>\n",
       "      <td>0.091333</td>\n",
       "      <td>2.995899</td>\n",
       "      <td>0.998632</td>\n",
       "      <td>0.011764</td>\n",
       "      <td>0.056308</td>\n",
       "      <td>Fail to Reject Null Hypothesis</td>\n",
       "    </tr>\n",
       "  </tbody>\n",
       "</table>\n",
       "</div>"
      ],
      "text/plain": [
       "       Control Visit  Control Rate  Treatment Visit  Treatment Rate  \\\n",
       "Day 1            162      0.108000              142        0.094667   \n",
       "Day 2            188      0.125333              137        0.091333   \n",
       "\n",
       "       Z-Statistic   P-Value  (Lower Bound)  (Upper Bound)  \\\n",
       "Day 1     1.210024  0.886865      -0.008309       0.035011   \n",
       "Day 2     2.995899  0.998632       0.011764       0.056308   \n",
       "\n",
       "                             Decision  \n",
       "Day 1  Fail to Reject Null Hypothesis  \n",
       "Day 2  Fail to Reject Null Hypothesis  "
      ]
     },
     "execution_count": 26,
     "metadata": {},
     "output_type": "execute_result"
    }
   ],
   "source": [
    "#Day 2\n",
    "data_control_day2 = df_control.sample(n=n, replace=False)\n",
    "data_treatment_day2 = df_treatment.sample(n=n, replace=False)\n",
    "\n",
    "result_list.append(pd.DataFrame(count_ctr_app(data_control_day2, data_treatment_day2, visit_column), index=['Day 2']))\n",
    "final_count = pd.concat(result_list)\n",
    "final_count"
   ]
  },
  {
   "cell_type": "code",
   "execution_count": 27,
   "id": "1f7a90c3-8fc2-4810-bcf4-77f98c237b31",
   "metadata": {},
   "outputs": [],
   "source": [
    "#Day 3\n",
    "data_control_day3 = df_control.sample(n=n, replace=False)\n",
    "data_treatment_day3 = df_treatment.sample(n=n, replace=False)\n",
    "\n",
    "result_list.append(pd.DataFrame(count_ctr_app(data_control_day3, data_treatment_day3, visit_column), index=['Day 3']))\n",
    "final_count = pd.concat(result_list)"
   ]
  },
  {
   "cell_type": "code",
   "execution_count": 28,
   "id": "d5036e56-ccf0-4a5d-919f-2eaf01880c66",
   "metadata": {},
   "outputs": [],
   "source": [
    "#Day 4\n",
    "data_control_day4 = df_control.sample(n=n, replace=False)\n",
    "data_treatment_day4 = df_treatment.sample(n=n, replace=False)\n",
    "\n",
    "result_list.append(pd.DataFrame(count_ctr_app(data_control_day4, data_treatment_day4, visit_column), index=['Day 4']))\n",
    "final_count = pd.concat(result_list)"
   ]
  },
  {
   "cell_type": "code",
   "execution_count": 29,
   "id": "e8ddfde7-58c9-413d-bb8c-c111917a024b",
   "metadata": {},
   "outputs": [],
   "source": [
    "#Day 5\n",
    "data_control_day5 = df_control.sample(n=n, replace=False)\n",
    "data_treatment_day5 = df_treatment.sample(n=n, replace=False)\n",
    "\n",
    "result_list.append(pd.DataFrame(count_ctr_app(data_control_day5, data_treatment_day5, visit_column), index=['Day 5']))\n",
    "final_count = pd.concat(result_list)"
   ]
  },
  {
   "cell_type": "code",
   "execution_count": 30,
   "id": "a33bf539-21d6-457b-b0b6-1b0fb06dccb6",
   "metadata": {},
   "outputs": [],
   "source": [
    "#Day 6\n",
    "data_control_day6 = df_control.sample(n=n, replace=False)\n",
    "data_treatment_day6 = df_treatment.sample(n=n, replace=False)\n",
    "\n",
    "result_list.append(pd.DataFrame(count_ctr_app(data_control_day6, data_treatment_day6, visit_column), index=['Day 3']))\n",
    "final_count = pd.concat(result_list)"
   ]
  },
  {
   "cell_type": "code",
   "execution_count": 31,
   "id": "30baf5b1-d807-4ec1-96cc-2ba366c7ad81",
   "metadata": {},
   "outputs": [],
   "source": [
    "#Day 7\n",
    "data_control_day7 = df_control.sample(n=n, replace=False)\n",
    "data_treatment_day7 = df_treatment.sample(n=n, replace=False)\n",
    "\n",
    "result_list.append(pd.DataFrame(count_ctr_app(data_control_day7, data_treatment_day7, visit_column), index=['Day 7']))\n",
    "final_count = pd.concat(result_list)"
   ]
  },
  {
   "cell_type": "code",
   "execution_count": 32,
   "id": "86f5c42f-884e-40e8-9021-8afccbee212f",
   "metadata": {},
   "outputs": [],
   "source": [
    "#Day 8\n",
    "data_control_day8 = df_control.sample(n=n, replace=False)\n",
    "data_treatment_day8 = df_treatment.sample(n=n, replace=False)\n",
    "\n",
    "result_list.append(pd.DataFrame(count_ctr_app(data_control_day8, data_treatment_day8, visit_column), index=['Day 8']))\n",
    "final_count = pd.concat(result_list)"
   ]
  },
  {
   "cell_type": "code",
   "execution_count": 33,
   "id": "fe5de02b-a5b3-4127-bd7d-4e7d37c43433",
   "metadata": {},
   "outputs": [],
   "source": [
    "#Day 9\n",
    "data_control_day9 = df_control.sample(n=n, replace=False)\n",
    "data_treatment_day9 = df_treatment.sample(n=n, replace=False)\n",
    "\n",
    "result_list.append(pd.DataFrame(count_ctr_app(data_control_day9, data_treatment_day9, visit_column), index=['Day 9']))\n",
    "final_count = pd.concat(result_list)"
   ]
  },
  {
   "cell_type": "code",
   "execution_count": 34,
   "id": "46c42291-03eb-49f8-b284-e2d1c81ee43e",
   "metadata": {
    "jupyter": {
     "source_hidden": true
    },
    "tags": []
   },
   "outputs": [],
   "source": [
    "#Day 10\n",
    "data_control_day10 = df_control.sample(n=n, replace=False)\n",
    "data_treatment_day10 = df_treatment.sample(n=n, replace=False)\n",
    "\n",
    "result_list.append(pd.DataFrame(count_ctr_app(data_control_day10, data_treatment_day10, visit_column), index=['Day 10']))\n",
    "final_count = pd.concat(result_list)"
   ]
  },
  {
   "cell_type": "code",
   "execution_count": 35,
   "id": "201dbb75-9c9d-49e3-9116-a0590624aba2",
   "metadata": {},
   "outputs": [],
   "source": [
    "#Day 11\n",
    "data_control_day11 = df_control.sample(n=n, replace=False)\n",
    "data_treatment_day11 = df_treatment.sample(n=n, replace=False)\n",
    "\n",
    "result_list.append(pd.DataFrame(count_ctr_app(data_control_day11, data_treatment_day11, visit_column), index=['Day 11']))\n",
    "final_count = pd.concat(result_list)"
   ]
  },
  {
   "cell_type": "code",
   "execution_count": 36,
   "id": "ea5265db-7f57-4afa-b269-d8f9f1095930",
   "metadata": {},
   "outputs": [],
   "source": [
    "#Day 12\n",
    "data_control_day12 = df_control.sample(n=n, replace=False)\n",
    "data_treatment_day12 = df_treatment.sample(n=n, replace=False)\n",
    "\n",
    "result_list.append(pd.DataFrame(count_ctr_app(data_control_day12, data_treatment_day12, visit_column), index=['Day 12']))\n",
    "final_count = pd.concat(result_list)"
   ]
  },
  {
   "cell_type": "code",
   "execution_count": 37,
   "id": "20732845-f016-4379-b631-053ffbcdd391",
   "metadata": {},
   "outputs": [],
   "source": [
    "#Day 13\n",
    "data_control_day13 = df_control.sample(n=n, replace=False)\n",
    "data_treatment_day13 = df_treatment.sample(n=n, replace=False)\n",
    "\n",
    "result_list.append(pd.DataFrame(count_ctr_app(data_control_day13, data_treatment_day3, visit_column), index=['Day 13']))\n",
    "final_count = pd.concat(result_list)"
   ]
  },
  {
   "cell_type": "code",
   "execution_count": 38,
   "id": "a3a92289-f213-43cd-8335-5622c36df35a",
   "metadata": {},
   "outputs": [],
   "source": [
    "#Day 14\n",
    "data_control_day14 = df_control.sample(n=n, replace=False)\n",
    "data_treatment_day14 = df_treatment.sample(n=n, replace=False)\n",
    "\n",
    "result_list.append(pd.DataFrame(count_ctr_app(data_control_day14, data_treatment_day14, visit_column), index=['Day 14']))\n",
    "final_count = pd.concat(result_list)"
   ]
  },
  {
   "cell_type": "markdown",
   "id": "88cf1d59-1002-43f5-a1e7-3d090590a30b",
   "metadata": {
    "tags": []
   },
   "source": [
    "## Recap"
   ]
  },
  {
   "cell_type": "code",
   "execution_count": 39,
   "id": "4cbf882f-d1df-4d2d-a40f-e7319f04153a",
   "metadata": {},
   "outputs": [
    {
     "data": {
      "text/html": [
       "<div>\n",
       "<style scoped>\n",
       "    .dataframe tbody tr th:only-of-type {\n",
       "        vertical-align: middle;\n",
       "    }\n",
       "\n",
       "    .dataframe tbody tr th {\n",
       "        vertical-align: top;\n",
       "    }\n",
       "\n",
       "    .dataframe thead th {\n",
       "        text-align: right;\n",
       "    }\n",
       "</style>\n",
       "<table border=\"1\" class=\"dataframe\">\n",
       "  <thead>\n",
       "    <tr style=\"text-align: right;\">\n",
       "      <th></th>\n",
       "      <th>Control Visit</th>\n",
       "      <th>Control Rate</th>\n",
       "      <th>Treatment Visit</th>\n",
       "      <th>Treatment Rate</th>\n",
       "      <th>Z-Statistic</th>\n",
       "      <th>P-Value</th>\n",
       "      <th>(Lower Bound)</th>\n",
       "      <th>(Upper Bound)</th>\n",
       "      <th>Decision</th>\n",
       "    </tr>\n",
       "  </thead>\n",
       "  <tbody>\n",
       "    <tr>\n",
       "      <th>Day 1</th>\n",
       "      <td>162</td>\n",
       "      <td>0.108000</td>\n",
       "      <td>142</td>\n",
       "      <td>0.094667</td>\n",
       "      <td>1.210024</td>\n",
       "      <td>0.886865</td>\n",
       "      <td>-0.008309</td>\n",
       "      <td>0.035011</td>\n",
       "      <td>Fail to Reject Null Hypothesis</td>\n",
       "    </tr>\n",
       "    <tr>\n",
       "      <th>Day 2</th>\n",
       "      <td>188</td>\n",
       "      <td>0.125333</td>\n",
       "      <td>137</td>\n",
       "      <td>0.091333</td>\n",
       "      <td>2.995899</td>\n",
       "      <td>0.998632</td>\n",
       "      <td>0.011764</td>\n",
       "      <td>0.056308</td>\n",
       "      <td>Fail to Reject Null Hypothesis</td>\n",
       "    </tr>\n",
       "    <tr>\n",
       "      <th>Day 3</th>\n",
       "      <td>149</td>\n",
       "      <td>0.099333</td>\n",
       "      <td>140</td>\n",
       "      <td>0.093333</td>\n",
       "      <td>0.556916</td>\n",
       "      <td>0.711207</td>\n",
       "      <td>-0.015179</td>\n",
       "      <td>0.027198</td>\n",
       "      <td>Fail to Reject Null Hypothesis</td>\n",
       "    </tr>\n",
       "    <tr>\n",
       "      <th>Day 4</th>\n",
       "      <td>162</td>\n",
       "      <td>0.108000</td>\n",
       "      <td>131</td>\n",
       "      <td>0.087333</td>\n",
       "      <td>1.906533</td>\n",
       "      <td>0.971709</td>\n",
       "      <td>-0.000608</td>\n",
       "      <td>0.042003</td>\n",
       "      <td>Fail to Reject Null Hypothesis</td>\n",
       "    </tr>\n",
       "    <tr>\n",
       "      <th>Day 5</th>\n",
       "      <td>163</td>\n",
       "      <td>0.108667</td>\n",
       "      <td>135</td>\n",
       "      <td>0.090000</td>\n",
       "      <td>1.709101</td>\n",
       "      <td>0.956284</td>\n",
       "      <td>-0.002774</td>\n",
       "      <td>0.040160</td>\n",
       "      <td>Fail to Reject Null Hypothesis</td>\n",
       "    </tr>\n",
       "    <tr>\n",
       "      <th>Day 3</th>\n",
       "      <td>151</td>\n",
       "      <td>0.100667</td>\n",
       "      <td>138</td>\n",
       "      <td>0.092000</td>\n",
       "      <td>0.804434</td>\n",
       "      <td>0.789427</td>\n",
       "      <td>-0.012507</td>\n",
       "      <td>0.029867</td>\n",
       "      <td>Fail to Reject Null Hypothesis</td>\n",
       "    </tr>\n",
       "    <tr>\n",
       "      <th>Day 7</th>\n",
       "      <td>151</td>\n",
       "      <td>0.100667</td>\n",
       "      <td>141</td>\n",
       "      <td>0.094000</td>\n",
       "      <td>0.615949</td>\n",
       "      <td>0.731036</td>\n",
       "      <td>-0.014608</td>\n",
       "      <td>0.027961</td>\n",
       "      <td>Fail to Reject Null Hypothesis</td>\n",
       "    </tr>\n",
       "    <tr>\n",
       "      <th>Day 8</th>\n",
       "      <td>171</td>\n",
       "      <td>0.114000</td>\n",
       "      <td>130</td>\n",
       "      <td>0.086667</td>\n",
       "      <td>2.491494</td>\n",
       "      <td>0.993640</td>\n",
       "      <td>0.005822</td>\n",
       "      <td>0.048920</td>\n",
       "      <td>Fail to Reject Null Hypothesis</td>\n",
       "    </tr>\n",
       "    <tr>\n",
       "      <th>Day 9</th>\n",
       "      <td>159</td>\n",
       "      <td>0.106000</td>\n",
       "      <td>128</td>\n",
       "      <td>0.085333</td>\n",
       "      <td>1.924228</td>\n",
       "      <td>0.972837</td>\n",
       "      <td>-0.000412</td>\n",
       "      <td>0.041811</td>\n",
       "      <td>Fail to Reject Null Hypothesis</td>\n",
       "    </tr>\n",
       "    <tr>\n",
       "      <th>Day 10</th>\n",
       "      <td>163</td>\n",
       "      <td>0.108667</td>\n",
       "      <td>150</td>\n",
       "      <td>0.100000</td>\n",
       "      <td>0.776422</td>\n",
       "      <td>0.781250</td>\n",
       "      <td>-0.013264</td>\n",
       "      <td>0.030618</td>\n",
       "      <td>Fail to Reject Null Hypothesis</td>\n",
       "    </tr>\n",
       "    <tr>\n",
       "      <th>Day 11</th>\n",
       "      <td>147</td>\n",
       "      <td>0.098000</td>\n",
       "      <td>153</td>\n",
       "      <td>0.102000</td>\n",
       "      <td>-0.365148</td>\n",
       "      <td>0.357500</td>\n",
       "      <td>-0.025545</td>\n",
       "      <td>0.017534</td>\n",
       "      <td>Fail to Reject Null Hypothesis</td>\n",
       "    </tr>\n",
       "    <tr>\n",
       "      <th>Day 12</th>\n",
       "      <td>149</td>\n",
       "      <td>0.099333</td>\n",
       "      <td>146</td>\n",
       "      <td>0.097333</td>\n",
       "      <td>0.183945</td>\n",
       "      <td>0.572972</td>\n",
       "      <td>-0.019379</td>\n",
       "      <td>0.023385</td>\n",
       "      <td>Fail to Reject Null Hypothesis</td>\n",
       "    </tr>\n",
       "    <tr>\n",
       "      <th>Day 13</th>\n",
       "      <td>149</td>\n",
       "      <td>0.099333</td>\n",
       "      <td>140</td>\n",
       "      <td>0.093333</td>\n",
       "      <td>0.556916</td>\n",
       "      <td>0.711207</td>\n",
       "      <td>-0.015179</td>\n",
       "      <td>0.027198</td>\n",
       "      <td>Fail to Reject Null Hypothesis</td>\n",
       "    </tr>\n",
       "    <tr>\n",
       "      <th>Day 14</th>\n",
       "      <td>144</td>\n",
       "      <td>0.096000</td>\n",
       "      <td>142</td>\n",
       "      <td>0.094667</td>\n",
       "      <td>0.124338</td>\n",
       "      <td>0.549476</td>\n",
       "      <td>-0.019757</td>\n",
       "      <td>0.022428</td>\n",
       "      <td>Fail to Reject Null Hypothesis</td>\n",
       "    </tr>\n",
       "  </tbody>\n",
       "</table>\n",
       "</div>"
      ],
      "text/plain": [
       "        Control Visit  Control Rate  Treatment Visit  Treatment Rate  \\\n",
       "Day 1             162      0.108000              142        0.094667   \n",
       "Day 2             188      0.125333              137        0.091333   \n",
       "Day 3             149      0.099333              140        0.093333   \n",
       "Day 4             162      0.108000              131        0.087333   \n",
       "Day 5             163      0.108667              135        0.090000   \n",
       "Day 3             151      0.100667              138        0.092000   \n",
       "Day 7             151      0.100667              141        0.094000   \n",
       "Day 8             171      0.114000              130        0.086667   \n",
       "Day 9             159      0.106000              128        0.085333   \n",
       "Day 10            163      0.108667              150        0.100000   \n",
       "Day 11            147      0.098000              153        0.102000   \n",
       "Day 12            149      0.099333              146        0.097333   \n",
       "Day 13            149      0.099333              140        0.093333   \n",
       "Day 14            144      0.096000              142        0.094667   \n",
       "\n",
       "        Z-Statistic   P-Value  (Lower Bound)  (Upper Bound)  \\\n",
       "Day 1      1.210024  0.886865      -0.008309       0.035011   \n",
       "Day 2      2.995899  0.998632       0.011764       0.056308   \n",
       "Day 3      0.556916  0.711207      -0.015179       0.027198   \n",
       "Day 4      1.906533  0.971709      -0.000608       0.042003   \n",
       "Day 5      1.709101  0.956284      -0.002774       0.040160   \n",
       "Day 3      0.804434  0.789427      -0.012507       0.029867   \n",
       "Day 7      0.615949  0.731036      -0.014608       0.027961   \n",
       "Day 8      2.491494  0.993640       0.005822       0.048920   \n",
       "Day 9      1.924228  0.972837      -0.000412       0.041811   \n",
       "Day 10     0.776422  0.781250      -0.013264       0.030618   \n",
       "Day 11    -0.365148  0.357500      -0.025545       0.017534   \n",
       "Day 12     0.183945  0.572972      -0.019379       0.023385   \n",
       "Day 13     0.556916  0.711207      -0.015179       0.027198   \n",
       "Day 14     0.124338  0.549476      -0.019757       0.022428   \n",
       "\n",
       "                              Decision  \n",
       "Day 1   Fail to Reject Null Hypothesis  \n",
       "Day 2   Fail to Reject Null Hypothesis  \n",
       "Day 3   Fail to Reject Null Hypothesis  \n",
       "Day 4   Fail to Reject Null Hypothesis  \n",
       "Day 5   Fail to Reject Null Hypothesis  \n",
       "Day 3   Fail to Reject Null Hypothesis  \n",
       "Day 7   Fail to Reject Null Hypothesis  \n",
       "Day 8   Fail to Reject Null Hypothesis  \n",
       "Day 9   Fail to Reject Null Hypothesis  \n",
       "Day 10  Fail to Reject Null Hypothesis  \n",
       "Day 11  Fail to Reject Null Hypothesis  \n",
       "Day 12  Fail to Reject Null Hypothesis  \n",
       "Day 13  Fail to Reject Null Hypothesis  \n",
       "Day 14  Fail to Reject Null Hypothesis  "
      ]
     },
     "execution_count": 39,
     "metadata": {},
     "output_type": "execute_result"
    }
   ],
   "source": [
    "final_count"
   ]
  },
  {
   "cell_type": "code",
   "execution_count": 40,
   "id": "43b9238c-f62a-4cbe-a4c2-6f98a17b5ec1",
   "metadata": {
    "tags": []
   },
   "outputs": [
    {
     "data": {
      "image/png": "[encoded data removed]",
      "text/plain": [
       "<Figure size 1000x600 with 1 Axes>"
      ]
     },
     "metadata": {},
     "output_type": "display_data"
    }
   ],
   "source": [
    "# Extract the required data for the plot\n",
    "days = final_count.index\n",
    "control_proportions = final_count['Control Rate']\n",
    "treatment_proportions = final_count['Treatment Rate']\n",
    "\n",
    "# Set up the figure and axis\n",
    "fig, ax = plt.subplots(figsize=(10, 6))\n",
    "\n",
    "# Plot the stacked bar chart\n",
    "ax.bar(days, control_proportions, label='Control', color='b')\n",
    "ax.bar(days, treatment_proportions, bottom=control_proportions, label='Treatment', color='g')\n",
    "\n",
    "# Add labels, title, and legend\n",
    "ax.set_xlabel('Days')\n",
    "ax.set_ylabel('Proportions')\n",
    "ax.set_title('Comparison of Proportions between Control and Treatment Groups')\n",
    "ax.legend()\n",
    "\n",
    "# Show the plot\n",
    "plt.tight_layout()\n",
    "plt.show()"
   ]
  },
  {
   "cell_type": "code",
   "execution_count": 41,
   "id": "52deac60-02b1-4adf-8df3-9b4f0e221405",
   "metadata": {
    "tags": []
   },
   "outputs": [
    {
     "data": {
      "image/png": "[encoded data removed]",
      "text/plain": [
       "<Figure size 1000x600 with 1 Axes>"
      ]
     },
     "metadata": {},
     "output_type": "display_data"
    },
    {
     "data": {
      "image/png": "[encoded data removed]",
      "text/plain": [
       "<Figure size 1000x600 with 1 Axes>"
      ]
     },
     "metadata": {},
     "output_type": "display_data"
    }
   ],
   "source": [
    "# Extract the required data for the plot\n",
    "days = final_count.index\n",
    "p_values = final_count['P-Value']\n",
    "\n",
    "# Set up the figure and axis for the bar plot\n",
    "fig, ax1 = plt.subplots(figsize=(10, 6))\n",
    "\n",
    "# Plot the bar plot\n",
    "ax1.bar(days, p_values, color='b')\n",
    "\n",
    "# Add labels, title, and grid\n",
    "ax1.set_xlabel('Days')\n",
    "ax1.set_ylabel('P-Value')\n",
    "ax1.set_title('P-Value Comparison')\n",
    "ax1.grid(True, linestyle='--')\n",
    "\n",
    "# Set the significance level threshold for color-coding (e.g., 0.05)\n",
    "significance_threshold = 0.05\n",
    "\n",
    "# Color the bars based on significance\n",
    "for idx, p_value in enumerate(p_values):\n",
    "    color = 'r' if p_value < significance_threshold else 'b'\n",
    "    ax1.get_children()[idx].set_color(color)\n",
    "\n",
    "# Set up the figure and axis for the dot plot\n",
    "fig, ax2 = plt.subplots(figsize=(10, 6))\n",
    "\n",
    "# Plot the dot plot\n",
    "ax2.plot(days, p_values, 'o', color='b')\n",
    "\n",
    "# Add labels, title, and grid\n",
    "ax2.set_xlabel('Days')\n",
    "ax2.set_ylabel('P-Value')\n",
    "ax2.set_title('P-Value Comparison')\n",
    "ax2.grid(True, linestyle='--')\n",
    "\n",
    "# Draw a horizontal line at the significance level threshold\n",
    "ax2.axhline(significance_threshold, color='r', linestyle='--', label='Significance Level (0.05)')\n",
    "\n",
    "# Add a legend\n",
    "ax2.legend()\n",
    "\n",
    "# Show the plots\n",
    "plt.tight_layout()\n",
    "plt.show()"
   ]
  },
  {
   "cell_type": "code",
   "execution_count": 42,
   "id": "5a9b011f-18cf-4065-8f4f-7b012060394c",
   "metadata": {
    "tags": []
   },
   "outputs": [
    {
     "data": {
      "text/html": [
       "<div>\n",
       "<style scoped>\n",
       "    .dataframe tbody tr th:only-of-type {\n",
       "        vertical-align: middle;\n",
       "    }\n",
       "\n",
       "    .dataframe tbody tr th {\n",
       "        vertical-align: top;\n",
       "    }\n",
       "\n",
       "    .dataframe thead th {\n",
       "        text-align: right;\n",
       "    }\n",
       "</style>\n",
       "<table border=\"1\" class=\"dataframe\">\n",
       "  <thead>\n",
       "    <tr style=\"text-align: right;\">\n",
       "      <th></th>\n",
       "      <th>Control Visit</th>\n",
       "      <th>Control Rate</th>\n",
       "      <th>Treatment Visit</th>\n",
       "      <th>Treatment Rate</th>\n",
       "      <th>Z-Statistic</th>\n",
       "      <th>P-Value</th>\n",
       "      <th>(Lower Bound)</th>\n",
       "      <th>(Upper Bound)</th>\n",
       "      <th>Decision</th>\n",
       "    </tr>\n",
       "  </thead>\n",
       "  <tbody>\n",
       "    <tr>\n",
       "      <th>Day 1</th>\n",
       "      <td>162</td>\n",
       "      <td>0.108000</td>\n",
       "      <td>142</td>\n",
       "      <td>0.094667</td>\n",
       "      <td>1.210024</td>\n",
       "      <td>0.886865</td>\n",
       "      <td>-0.008309</td>\n",
       "      <td>0.035011</td>\n",
       "      <td>Fail to Reject Null Hypothesis</td>\n",
       "    </tr>\n",
       "    <tr>\n",
       "      <th>Day 2</th>\n",
       "      <td>188</td>\n",
       "      <td>0.125333</td>\n",
       "      <td>137</td>\n",
       "      <td>0.091333</td>\n",
       "      <td>2.995899</td>\n",
       "      <td>0.998632</td>\n",
       "      <td>0.011764</td>\n",
       "      <td>0.056308</td>\n",
       "      <td>Fail to Reject Null Hypothesis</td>\n",
       "    </tr>\n",
       "    <tr>\n",
       "      <th>Day 3</th>\n",
       "      <td>149</td>\n",
       "      <td>0.099333</td>\n",
       "      <td>140</td>\n",
       "      <td>0.093333</td>\n",
       "      <td>0.556916</td>\n",
       "      <td>0.711207</td>\n",
       "      <td>-0.015179</td>\n",
       "      <td>0.027198</td>\n",
       "      <td>Fail to Reject Null Hypothesis</td>\n",
       "    </tr>\n",
       "    <tr>\n",
       "      <th>Day 4</th>\n",
       "      <td>162</td>\n",
       "      <td>0.108000</td>\n",
       "      <td>131</td>\n",
       "      <td>0.087333</td>\n",
       "      <td>1.906533</td>\n",
       "      <td>0.971709</td>\n",
       "      <td>-0.000608</td>\n",
       "      <td>0.042003</td>\n",
       "      <td>Fail to Reject Null Hypothesis</td>\n",
       "    </tr>\n",
       "    <tr>\n",
       "      <th>Day 5</th>\n",
       "      <td>163</td>\n",
       "      <td>0.108667</td>\n",
       "      <td>135</td>\n",
       "      <td>0.090000</td>\n",
       "      <td>1.709101</td>\n",
       "      <td>0.956284</td>\n",
       "      <td>-0.002774</td>\n",
       "      <td>0.040160</td>\n",
       "      <td>Fail to Reject Null Hypothesis</td>\n",
       "    </tr>\n",
       "    <tr>\n",
       "      <th>Day 3</th>\n",
       "      <td>151</td>\n",
       "      <td>0.100667</td>\n",
       "      <td>138</td>\n",
       "      <td>0.092000</td>\n",
       "      <td>0.804434</td>\n",
       "      <td>0.789427</td>\n",
       "      <td>-0.012507</td>\n",
       "      <td>0.029867</td>\n",
       "      <td>Fail to Reject Null Hypothesis</td>\n",
       "    </tr>\n",
       "    <tr>\n",
       "      <th>Day 7</th>\n",
       "      <td>151</td>\n",
       "      <td>0.100667</td>\n",
       "      <td>141</td>\n",
       "      <td>0.094000</td>\n",
       "      <td>0.615949</td>\n",
       "      <td>0.731036</td>\n",
       "      <td>-0.014608</td>\n",
       "      <td>0.027961</td>\n",
       "      <td>Fail to Reject Null Hypothesis</td>\n",
       "    </tr>\n",
       "    <tr>\n",
       "      <th>Day 8</th>\n",
       "      <td>171</td>\n",
       "      <td>0.114000</td>\n",
       "      <td>130</td>\n",
       "      <td>0.086667</td>\n",
       "      <td>2.491494</td>\n",
       "      <td>0.993640</td>\n",
       "      <td>0.005822</td>\n",
       "      <td>0.048920</td>\n",
       "      <td>Fail to Reject Null Hypothesis</td>\n",
       "    </tr>\n",
       "    <tr>\n",
       "      <th>Day 9</th>\n",
       "      <td>159</td>\n",
       "      <td>0.106000</td>\n",
       "      <td>128</td>\n",
       "      <td>0.085333</td>\n",
       "      <td>1.924228</td>\n",
       "      <td>0.972837</td>\n",
       "      <td>-0.000412</td>\n",
       "      <td>0.041811</td>\n",
       "      <td>Fail to Reject Null Hypothesis</td>\n",
       "    </tr>\n",
       "    <tr>\n",
       "      <th>Day 10</th>\n",
       "      <td>163</td>\n",
       "      <td>0.108667</td>\n",
       "      <td>150</td>\n",
       "      <td>0.100000</td>\n",
       "      <td>0.776422</td>\n",
       "      <td>0.781250</td>\n",
       "      <td>-0.013264</td>\n",
       "      <td>0.030618</td>\n",
       "      <td>Fail to Reject Null Hypothesis</td>\n",
       "    </tr>\n",
       "    <tr>\n",
       "      <th>Day 11</th>\n",
       "      <td>147</td>\n",
       "      <td>0.098000</td>\n",
       "      <td>153</td>\n",
       "      <td>0.102000</td>\n",
       "      <td>-0.365148</td>\n",
       "      <td>0.357500</td>\n",
       "      <td>-0.025545</td>\n",
       "      <td>0.017534</td>\n",
       "      <td>Fail to Reject Null Hypothesis</td>\n",
       "    </tr>\n",
       "    <tr>\n",
       "      <th>Day 12</th>\n",
       "      <td>149</td>\n",
       "      <td>0.099333</td>\n",
       "      <td>146</td>\n",
       "      <td>0.097333</td>\n",
       "      <td>0.183945</td>\n",
       "      <td>0.572972</td>\n",
       "      <td>-0.019379</td>\n",
       "      <td>0.023385</td>\n",
       "      <td>Fail to Reject Null Hypothesis</td>\n",
       "    </tr>\n",
       "    <tr>\n",
       "      <th>Day 13</th>\n",
       "      <td>149</td>\n",
       "      <td>0.099333</td>\n",
       "      <td>140</td>\n",
       "      <td>0.093333</td>\n",
       "      <td>0.556916</td>\n",
       "      <td>0.711207</td>\n",
       "      <td>-0.015179</td>\n",
       "      <td>0.027198</td>\n",
       "      <td>Fail to Reject Null Hypothesis</td>\n",
       "    </tr>\n",
       "    <tr>\n",
       "      <th>Day 14</th>\n",
       "      <td>144</td>\n",
       "      <td>0.096000</td>\n",
       "      <td>142</td>\n",
       "      <td>0.094667</td>\n",
       "      <td>0.124338</td>\n",
       "      <td>0.549476</td>\n",
       "      <td>-0.019757</td>\n",
       "      <td>0.022428</td>\n",
       "      <td>Fail to Reject Null Hypothesis</td>\n",
       "    </tr>\n",
       "  </tbody>\n",
       "</table>\n",
       "</div>"
      ],
      "text/plain": [
       "        Control Visit  Control Rate  Treatment Visit  Treatment Rate  \\\n",
       "Day 1             162      0.108000              142        0.094667   \n",
       "Day 2             188      0.125333              137        0.091333   \n",
       "Day 3             149      0.099333              140        0.093333   \n",
       "Day 4             162      0.108000              131        0.087333   \n",
       "Day 5             163      0.108667              135        0.090000   \n",
       "Day 3             151      0.100667              138        0.092000   \n",
       "Day 7             151      0.100667              141        0.094000   \n",
       "Day 8             171      0.114000              130        0.086667   \n",
       "Day 9             159      0.106000              128        0.085333   \n",
       "Day 10            163      0.108667              150        0.100000   \n",
       "Day 11            147      0.098000              153        0.102000   \n",
       "Day 12            149      0.099333              146        0.097333   \n",
       "Day 13            149      0.099333              140        0.093333   \n",
       "Day 14            144      0.096000              142        0.094667   \n",
       "\n",
       "        Z-Statistic   P-Value  (Lower Bound)  (Upper Bound)  \\\n",
       "Day 1      1.210024  0.886865      -0.008309       0.035011   \n",
       "Day 2      2.995899  0.998632       0.011764       0.056308   \n",
       "Day 3      0.556916  0.711207      -0.015179       0.027198   \n",
       "Day 4      1.906533  0.971709      -0.000608       0.042003   \n",
       "Day 5      1.709101  0.956284      -0.002774       0.040160   \n",
       "Day 3      0.804434  0.789427      -0.012507       0.029867   \n",
       "Day 7      0.615949  0.731036      -0.014608       0.027961   \n",
       "Day 8      2.491494  0.993640       0.005822       0.048920   \n",
       "Day 9      1.924228  0.972837      -0.000412       0.041811   \n",
       "Day 10     0.776422  0.781250      -0.013264       0.030618   \n",
       "Day 11    -0.365148  0.357500      -0.025545       0.017534   \n",
       "Day 12     0.183945  0.572972      -0.019379       0.023385   \n",
       "Day 13     0.556916  0.711207      -0.015179       0.027198   \n",
       "Day 14     0.124338  0.549476      -0.019757       0.022428   \n",
       "\n",
       "                              Decision  \n",
       "Day 1   Fail to Reject Null Hypothesis  \n",
       "Day 2   Fail to Reject Null Hypothesis  \n",
       "Day 3   Fail to Reject Null Hypothesis  \n",
       "Day 4   Fail to Reject Null Hypothesis  \n",
       "Day 5   Fail to Reject Null Hypothesis  \n",
       "Day 3   Fail to Reject Null Hypothesis  \n",
       "Day 7   Fail to Reject Null Hypothesis  \n",
       "Day 8   Fail to Reject Null Hypothesis  \n",
       "Day 9   Fail to Reject Null Hypothesis  \n",
       "Day 10  Fail to Reject Null Hypothesis  \n",
       "Day 11  Fail to Reject Null Hypothesis  \n",
       "Day 12  Fail to Reject Null Hypothesis  \n",
       "Day 13  Fail to Reject Null Hypothesis  \n",
       "Day 14  Fail to Reject Null Hypothesis  "
      ]
     },
     "execution_count": 42,
     "metadata": {},
     "output_type": "execute_result"
    }
   ],
   "source": [
    "final_count"
   ]
  },
  {
   "cell_type": "code",
   "execution_count": 43,
   "id": "f36f2179-f112-4694-959f-0aa307f05507",
   "metadata": {},
   "outputs": [
    {
     "name": "stdout",
     "output_type": "stream",
     "text": [
      "Grup Control A:\n",
      "Control Visit: 2208\n",
      "Observasi control: 21000\n",
      "CTR Control: 0.10514285714285715\n",
      "-----------------------------------\n",
      "Grup Treatment B:\n",
      "Control Visit: 1953\n",
      "Observasi control: 21000\n",
      "CTR Treatment: 0.093\n",
      "___________________________________\n",
      "Confidence Interval : 95%\n",
      "Z-statistic: 4.165\n",
      "p-value: 1.000\n",
      "Confidence Interval (Upper & Lower bounds) : (0.006429507347285182, 0.017858724735969663)\n",
      "Decision : Fail to Reject Null Hypothesis\n"
     ]
    }
   ],
   "source": [
    "#Final result\n",
    "n_final = 1500 * len(final_count)\n",
    "control_final = final_count['Control Visit'].sum()\n",
    "treatment_final = final_count['Treatment Visit'].sum()\n",
    "\n",
    "# Rate\n",
    "control_rate_final = control_final / n_final\n",
    "treatment_rate_final = treatment_final / n_final\n",
    "\n",
    "\n",
    "print('Grup Control A:')\n",
    "print(f'Control Visit: {control_final}')\n",
    "print(f'Observasi control: {n_final}')\n",
    "print(f'CTR Control: {control_rate_final}')\n",
    "print('-----------------------------------')\n",
    "print('Grup Treatment B:')\n",
    "print(f'Control Visit: {treatment_final}')\n",
    "print(f'Observasi control: {n_final}')\n",
    "print(f'CTR Treatment: {treatment_rate_final}')\n",
    "print('___________________________________')\n",
    "\n",
    "\n",
    "print('Confidence Interval : 95%')\n",
    "stat, pvalue = proportions_ztest([control_final, treatment_final], [n_final, n_final], alternative='smaller')\n",
    "print(f\"Z-statistic: {stat:0.3f}\")\n",
    "print(f\"p-value: {pvalue:0.3f}\")\n",
    "\n",
    "#Confidence Interval, Alpha = 0.05\n",
    "confidence_interval = confint_proportions_2indep(count1 = control_final, nobs1 = n_final,\n",
    "                                                 count2 = treatment_final, nobs2 = n_final,\n",
    "                                                 compare='diff', alpha=0.05) #difference\n",
    "\n",
    "print(f\"Confidence Interval (Upper & Lower bounds) : {confidence_interval}\")\n",
    "\n",
    "alpha = 0.05\n",
    "if(pvalue <  alpha):\n",
    "  print(\"Decision : Reject Null Hypothesis\")\n",
    "else:\n",
    "  print(\"Decision : Fail to Reject Null Hypothesis\")"
   ]
  },
  {
   "cell_type": "markdown",
   "id": "20272042-1b4b-4e4b-812f-f19f1afca234",
   "metadata": {},
   "source": [
    "### SRM TEST\n",
    "H0 = sample size control = sample size treatment (no SRM) <br>\n",
    "H1 = sample size control =! sample size treatment (SRM)"
   ]
  },
  {
   "cell_type": "code",
   "execution_count": 44,
   "id": "95d76cfd-5226-4eb5-b96a-ccffc88aaec3",
   "metadata": {},
   "outputs": [
    {
     "data": {
      "text/html": [
       "<div>\n",
       "<style scoped>\n",
       "    .dataframe tbody tr th:only-of-type {\n",
       "        vertical-align: middle;\n",
       "    }\n",
       "\n",
       "    .dataframe tbody tr th {\n",
       "        vertical-align: top;\n",
       "    }\n",
       "\n",
       "    .dataframe thead th {\n",
       "        text-align: right;\n",
       "    }\n",
       "</style>\n",
       "<table border=\"1\" class=\"dataframe\">\n",
       "  <thead>\n",
       "    <tr style=\"text-align: right;\">\n",
       "      <th></th>\n",
       "      <th>Group</th>\n",
       "      <th>Size Obs</th>\n",
       "      <th>Exptd Obs</th>\n",
       "    </tr>\n",
       "  </thead>\n",
       "  <tbody>\n",
       "    <tr>\n",
       "      <th>0</th>\n",
       "      <td>Control</td>\n",
       "      <td>21000</td>\n",
       "      <td>21000.0</td>\n",
       "    </tr>\n",
       "    <tr>\n",
       "      <th>1</th>\n",
       "      <td>Treatment</td>\n",
       "      <td>21000</td>\n",
       "      <td>21000.0</td>\n",
       "    </tr>\n",
       "  </tbody>\n",
       "</table>\n",
       "</div>"
      ],
      "text/plain": [
       "       Group  Size Obs  Exptd Obs\n",
       "0    Control     21000    21000.0\n",
       "1  Treatment     21000    21000.0"
      ]
     },
     "execution_count": 44,
     "metadata": {},
     "output_type": "execute_result"
    }
   ],
   "source": [
    "srm_control = n * len(final_count['Control Visit'])\n",
    "srm_treatment = n * len(final_count['Treatment Visit'])\n",
    "srm_size = pd.DataFrame({\n",
    "    'Group' : ['Control', 'Treatment'],\n",
    "    'Size Obs' : [srm_control, srm_treatment],\n",
    "    'Exptd Obs' : [((srm_control + srm_treatment)/2),((srm_control + srm_treatment)/2)]\n",
    "})\n",
    "srm_size"
   ]
  },
  {
   "cell_type": "markdown",
   "id": "aab46e62-ef4b-4639-aa34-a42440ecb13e",
   "metadata": {},
   "source": [
    "### Chi-square and Degree of Freedom"
   ]
  },
  {
   "cell_type": "code",
   "execution_count": 45,
   "id": "17dd5ae8-c560-4777-96a5-e5e89e06756c",
   "metadata": {},
   "outputs": [
    {
     "data": {
      "text/plain": [
       "0.0"
      ]
     },
     "execution_count": 45,
     "metadata": {},
     "output_type": "execute_result"
    }
   ],
   "source": [
    "# Calculate chi-square statistic and Degree of Freedom\n",
    "dof = (2-1) * (2-1) #2 jenis group dan dua jenis kolom (observed and expected)\n",
    "chi_sqr = [((srm_size['Size Obs'] - srm_size['Exptd Obs'])**2) / srm_size['Exptd Obs']][0].sum()\n",
    "chi_sqr"
   ]
  },
  {
   "cell_type": "markdown",
   "id": "6c92cbab-2b4b-422a-a197-5b783ee4dda7",
   "metadata": {},
   "source": [
    "It means that both Control and Treatment have the same distribution\n",
    "\n",
    "**We Reject H0 if** :\n",
    "- chi-square statistic > chi-square critical value **or**\n",
    "- p-value < siqnificance level"
   ]
  },
  {
   "cell_type": "code",
   "execution_count": 46,
   "id": "624493b9-f448-40b6-ab3e-dd3328ad48e7",
   "metadata": {},
   "outputs": [
    {
     "name": "stdout",
     "output_type": "stream",
     "text": [
      "Chi-Square Critical 3.841458820694124\n",
      "Chi-Square Statistic 0.0\n",
      "Fail to Reject H0 : No Sample Ratio Mismatch (No SRM)\n"
     ]
    }
   ],
   "source": [
    "#Chi-square Critical\n",
    "chi_sqr_critical = stats.chi2.ppf(1-alpha, df=dof)\n",
    "print(\"Chi-Square Critical\", chi_sqr_critical)\n",
    "print(\"Chi-Square Statistic\", chi_sqr)\n",
    "\n",
    "if chi_sqr > chi_sqr_critical:\n",
    "    print(\"Reject H0 : Sample Ratio Mismatch (SRM)\")\n",
    "else:\n",
    "    print(\"Fail to Reject H0 : No Sample Ratio Mismatch (No SRM)\")"
   ]
  },
  {
   "cell_type": "code",
   "execution_count": 47,
   "id": "c312f1a5-f591-46ff-9903-5871a3d85733",
   "metadata": {},
   "outputs": [
    {
     "name": "stdout",
     "output_type": "stream",
     "text": [
      "Pi-value 1.0\n",
      "Significance Level 0.05\n",
      "Fail to Reject H0 : No Sample Ratio Mismatch (No SRM)\n"
     ]
    }
   ],
   "source": [
    "#P-Value \n",
    "pval = stats.chi2.sf(chi_sqr, df=dof)\n",
    "print('Pi-value', pval)\n",
    "print('Significance Level', alpha)\n",
    "\n",
    "if pval < alpha:\n",
    "    print(\"Reject H0 : Sample Ratio Mismatch (SRM)\")\n",
    "else:\n",
    "    print(\"Fail to Reject H0 : No Sample Ratio Mismatch (No SRM)\")"
   ]
  },
  {
   "cell_type": "markdown",
   "id": "2e8ef10e-f584-4ea6-a74f-1987df9b893e",
   "metadata": {},
   "source": [
    "## Decision"
   ]
  },
  {
   "cell_type": "markdown",
   "id": "2c8b1eb1-769b-49e7-a881-e30fbf1c4549",
   "metadata": {},
   "source": [
    "> $H_0: \\mu_{A, Control} >= \\mu_{A, Treatment}$ <br>\n",
    "> $H_1: \\mu_{A, Control} < \\mu_{A, Treatment}$\n",
    "\n",
    "Decision : \n",
    "After performing 14 day of testing, it is safe to assume that the right decision is to **Fail to Reject Null Hypothesis**. <br>\n",
    "This assumption also backed if we look at the proportion comparison between control and treatment"
   ]
  },
  {
   "cell_type": "code",
   "execution_count": null,
   "id": "f6ef32bd-c52c-4b32-951c-2c8c6470cc00",
   "metadata": {},
   "outputs": [],
   "source": []
  }
 ],
 "metadata": {
  "kernelspec": {
   "display_name": "Python 3 (ipykernel)",
   "language": "python",
   "name": "python3"
  },
  "language_info": {
   "codemirror_mode": {
    "name": "ipython",
    "version": 3
   },
   "file_extension": ".py",
   "mimetype": "text/x-python",
   "name": "python",
   "nbconvert_exporter": "python",
   "pygments_lexer": "ipython3",
   "version": "3.9.13"
  }
 },
 "nbformat": 4,
 "nbformat_minor": 5
}
